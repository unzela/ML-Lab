{
  "nbformat": 4,
  "nbformat_minor": 0,
  "metadata": {
    "colab": {
      "name": "CIFAR10_CNN.ipynb",
      "provenance": []
    },
    "kernelspec": {
      "name": "python_defaultSpec_1599207186123",
      "display_name": "Python 3.7.7 64-bit ('notebook1': conda)"
    }
  },
  "cells": [
    {
      "cell_type": "code",
      "metadata": {
        "id": "Ma7cK0Tz_IJH",
        "tags": []
      },
      "source": [
        "import keras\n",
        "from keras.datasets import cifar10\n",
        "from keras.models import Sequential\n",
        "from keras.layers import Dense, Dropout, Activation, Flatten\n",
        "from keras.layers import Conv2D, MaxPooling2D"
      ],
      "execution_count": null,
      "outputs": []
    },
    {
      "cell_type": "code",
      "metadata": {
        "id": "e3x8BRhf_eKX"
      },
      "source": [
        "num_classes = 10\n",
        "epochs = 15\n",
        "num_predictions = 20"
      ],
      "execution_count": null,
      "outputs": []
    },
    {
      "cell_type": "code",
      "metadata": {
        "id": "d70-isbG_l3N",
        "tags": [],
        "outputId": "3990a03b-55a8-4295-f3de-7cf4b7a86fd7",
        "colab": {
          "base_uri": "https://localhost:8080/"
        }
      },
      "source": [
        "(x_train, y_train), (x_test, y_test) = cifar10.load_data()\n",
        "print('x_train shape:', x_train.shape)\n",
        "print(x_train.shape[0], 'train samples')\n",
        "print(x_test.shape[0], 'test samples')"
      ],
      "execution_count": null,
      "outputs": [
        {
          "output_type": "stream",
          "text": [
            "Downloading data from https://www.cs.toronto.edu/~kriz/cifar-10-python.tar.gz\n",
            "170500096/170498071 [==============================] - 2s 0us/step\n",
            "x_train shape: (50000, 32, 32, 3)\n",
            "50000 train samples\n",
            "10000 test samples\n"
          ],
          "name": "stdout"
        }
      ]
    },
    {
      "cell_type": "code",
      "metadata": {
        "id": "7t01v7K8_ozY"
      },
      "source": [
        "y_train = keras.utils.to_categorical(y_train, num_classes)\n",
        "y_test = keras.utils.to_categorical(y_test, num_classes)"
      ],
      "execution_count": null,
      "outputs": []
    },
    {
      "cell_type": "code",
      "metadata": {
        "id": "xGHu9yrW_vOI"
      },
      "source": [
        "model = Sequential()\n",
        "model.add(Conv2D(32, (3, 3), padding='same',\n",
        "                 input_shape=x_train.shape[1:]))\n",
        "model.add(Activation('relu'))\n",
        "model.add(Conv2D(32, (3, 3)))\n",
        "model.add(Activation('relu'))\n",
        "model.add(MaxPooling2D(pool_size=(2, 2)))\n",
        "model.add(Dropout(0.25))\n",
        "\n",
        "model.add(Conv2D(64, (3, 3), padding='same'))\n",
        "model.add(Activation('relu'))\n",
        "model.add(Conv2D(64, (3, 3)))\n",
        "model.add(Activation('relu'))\n",
        "model.add(MaxPooling2D(pool_size=(2, 2)))\n",
        "model.add(Dropout(0.25))\n",
        "\n",
        "model.add(Flatten())\n",
        "model.add(Dense(512))\n",
        "model.add(Activation('relu'))\n",
        "model.add(Dropout(0.5))\n",
        "model.add(Dense(num_classes))\n",
        "model.add(Activation('softmax'))"
      ],
      "execution_count": null,
      "outputs": []
    },
    {
      "cell_type": "code",
      "metadata": {
        "id": "4ql_EuM2_yVZ"
      },
      "source": [
        "opt = keras.optimizers.RMSprop(learning_rate=0.0001, decay=1e-6)\n",
        "model.compile(loss='categorical_crossentropy',\n",
        "              optimizer=opt,\n",
        "              metrics=['accuracy'])\n"
      ],
      "execution_count": null,
      "outputs": []
    },
    {
      "cell_type": "code",
      "metadata": {
        "id": "u_EPYe9A_4eu"
      },
      "source": [
        "x_train = x_train.astype('float32')\n",
        "x_test = x_test.astype('float32')\n",
        "x_train /= 255\n",
        "x_test /= 255"
      ],
      "execution_count": null,
      "outputs": []
    },
    {
      "cell_type": "code",
      "metadata": {
        "id": "o8RsMiEM_7Lj",
        "tags": [],
        "outputId": "7d723dff-8939-4e9d-b084-98fbb92cd218",
        "colab": {
          "base_uri": "https://localhost:8080/",
          "height": 521
        }
      },
      "source": [
        "history = model.fit(x_train, y_train,\n",
        "              epochs=epochs,\n",
        "              validation_data=(x_test, y_test),\n",
        "              shuffle=True)  "
      ],
      "execution_count": null,
      "outputs": [
        {
          "output_type": "stream",
          "text": [
            "Epoch 1/15\n",
            "1563/1563 [==============================] - 228s 146ms/step - loss: 1.8556 - accuracy: 0.3187 - val_loss: 1.5890 - val_accuracy: 0.4293\n",
            "Epoch 2/15\n",
            "1563/1563 [==============================] - 226s 145ms/step - loss: 1.5224 - accuracy: 0.4467 - val_loss: 1.3604 - val_accuracy: 0.5211\n",
            "Epoch 3/15\n",
            "1563/1563 [==============================] - 230s 147ms/step - loss: 1.3665 - accuracy: 0.5138 - val_loss: 1.3341 - val_accuracy: 0.5258\n",
            "Epoch 4/15\n",
            "1563/1563 [==============================] - 226s 145ms/step - loss: 1.2615 - accuracy: 0.5522 - val_loss: 1.1603 - val_accuracy: 0.5930\n",
            "Epoch 5/15\n",
            "1563/1563 [==============================] - 230s 147ms/step - loss: 1.1839 - accuracy: 0.5784 - val_loss: 1.1686 - val_accuracy: 0.5927\n",
            "Epoch 6/15\n",
            "1563/1563 [==============================] - 227s 145ms/step - loss: 1.1139 - accuracy: 0.6085 - val_loss: 1.0202 - val_accuracy: 0.6431\n",
            "Epoch 7/15\n",
            "1563/1563 [==============================] - 228s 146ms/step - loss: 1.0531 - accuracy: 0.6274 - val_loss: 0.9760 - val_accuracy: 0.6560\n",
            "Epoch 8/15\n",
            "1563/1563 [==============================] - 232s 149ms/step - loss: 1.0075 - accuracy: 0.6454 - val_loss: 0.9349 - val_accuracy: 0.6754\n",
            "Epoch 9/15\n",
            "1563/1563 [==============================] - 227s 145ms/step - loss: 0.9630 - accuracy: 0.6625 - val_loss: 0.8990 - val_accuracy: 0.6869\n",
            "Epoch 10/15\n",
            "1563/1563 [==============================] - 228s 146ms/step - loss: 0.9309 - accuracy: 0.6766 - val_loss: 0.8600 - val_accuracy: 0.7013\n",
            "Epoch 11/15\n",
            "1563/1563 [==============================] - 228s 146ms/step - loss: 0.8967 - accuracy: 0.6864 - val_loss: 0.8534 - val_accuracy: 0.7046\n",
            "Epoch 12/15\n",
            "1563/1563 [==============================] - 228s 146ms/step - loss: 0.8686 - accuracy: 0.6971 - val_loss: 0.8156 - val_accuracy: 0.7181\n",
            "Epoch 13/15\n",
            "1563/1563 [==============================] - 227s 145ms/step - loss: 0.8462 - accuracy: 0.7040 - val_loss: 0.8194 - val_accuracy: 0.7143\n",
            "Epoch 14/15\n",
            "1563/1563 [==============================] - 227s 145ms/step - loss: 0.8233 - accuracy: 0.7138 - val_loss: 0.7940 - val_accuracy: 0.7247\n",
            "Epoch 15/15\n",
            "1563/1563 [==============================] - 227s 145ms/step - loss: 0.8037 - accuracy: 0.7204 - val_loss: 0.7829 - val_accuracy: 0.7307\n"
          ],
          "name": "stdout"
        }
      ]
    },
    {
      "cell_type": "code",
      "metadata": {
        "id": "njZJKp138voJ",
        "tags": [],
        "outputId": "8ef67f0c-df87-41ec-c10a-cc24eaf2e5b1",
        "colab": {
          "base_uri": "https://localhost:8080/",
          "height": 50
        }
      },
      "source": [
        "test_loss, test_acc = model.evaluate(x_test,  y_test, verbose=2)\n",
        "print('Test accuracy:', test_acc*100)"
      ],
      "execution_count": null,
      "outputs": [
        {
          "output_type": "stream",
          "text": [
            "313/313 - 10s - loss: 0.7699 - accuracy: 0.7356\n",
            "Test accuracy: 73.55999946594238\n"
          ],
          "name": "stdout"
        }
      ]
    },
    {
      "cell_type": "code",
      "metadata": {
        "id": "5rJVIceT84CU",
        "tags": [],
        "outputId": "30edf415-6211-44d4-9dd1-6aa5dd7d179a",
        "colab": {
          "base_uri": "https://localhost:8080/",
          "height": 50
        }
      },
      "source": [
        "train_loss, train_acc = model.evaluate(x_train,  y_train, verbose=2)\n",
        "print('Train accuracy:', train_acc*100)"
      ],
      "execution_count": null,
      "outputs": [
        {
          "output_type": "stream",
          "text": [
            "1563/1563 - 51s - loss: 0.6757 - accuracy: 0.7652\n",
            "Train accuracy: 76.51600241661072\n"
          ],
          "name": "stdout"
        }
      ]
    },
    {
      "cell_type": "code",
      "metadata": {
        "id": "fQEcS-ik89zz",
        "outputId": "576fbbc1-b54e-4d4c-ee38-ae830b6b56fa",
        "colab": {
          "base_uri": "https://localhost:8080/",
          "height": 295
        }
      },
      "source": [
        "from matplotlib import pyplot as plt\n",
        "plt.plot(history.history['accuracy'])\n",
        "plt.plot(history.history['val_accuracy'])\n",
        "plt.title('model accuracy')\n",
        "plt.ylabel('accuracy')\n",
        "plt.xlabel('epoch')\n",
        "plt.legend(['train', 'test'], loc='lower right')\n",
        "plt.show()"
      ],
      "execution_count": null,
      "outputs": [
        {
          "output_type": "display_data",
          "data": {
            "image/png": "[encoded data removed]",
            "text/plain": [
              "<Figure size 432x288 with 1 Axes>"
            ]
          },
          "metadata": {
            "tags": [],
            "needs_background": "light"
          }
        }
      ]
    },
    {
      "cell_type": "code",
      "metadata": {
        "id": "DPsuBbBT9Pqt",
        "outputId": "c94d5f06-c177-404d-9937-1dc5996d05b4",
        "colab": {
          "base_uri": "https://localhost:8080/",
          "height": 295
        }
      },
      "source": [
        "plt.plot(history.history['loss'])\n",
        "plt.plot(history.history['val_loss'])\n",
        "plt.title('model loss')\n",
        "plt.ylabel('loss')\n",
        "plt.xlabel('epoch')\n",
        "plt.legend(['train', 'test'], loc='lower right')\n",
        "plt.show()"
      ],
      "execution_count": null,
      "outputs": [
        {
          "output_type": "display_data",
          "data": {
            "image/png": "[encoded data removed]",
            "text/plain": [
              "<Figure size 432x288 with 1 Axes>"
            ]
          },
          "metadata": {
            "tags": [],
            "needs_background": "light"
          }
        }
      ]
    },
    {
      "cell_type": "code",
      "metadata": {
        "id": "nE-zshxJCu0C"
      },
      "source": [
        "model.save(\"CNN_cifar.h5\")"
      ],
      "execution_count": null,
      "outputs": []
    },
    {
      "cell_type": "code",
      "metadata": {
        "id": "_8Qc2vGrCu0E"
      },
      "source": [
        ""
      ],
      "execution_count": null,
      "outputs": []
    }
  ]
}