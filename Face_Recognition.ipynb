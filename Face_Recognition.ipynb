{
  "nbformat": 4,
  "nbformat_minor": 0,
  "metadata": {
    "colab": {
      "name": "Face_Recognition.ipynb",
      "provenance": [],
      "collapsed_sections": []
    },
    "kernelspec": {
      "name": "python37964bittfgpuconda74c22ce0930d40fdbfdc08f9f068f12c",
      "display_name": "Python 3.7.9 64-bit ('tf-gpu': conda)"
    },
    "accelerator": "GPU"
  },
  "cells": [
    {
      "cell_type": "code",
      "metadata": {
        "id": "mK5RsAcCrXf5"
      },
      "source": [
        "import os\n",
        "import pandas as pd\n",
        "from sklearn.model_selection import train_test_split\n",
        "import tensorflow as tf\n",
        "import matplotlib.pyplot as plt\n",
        "from tensorflow.keras.preprocessing.image import ImageDataGenerator\n",
        "from tensorflow.keras.models import Sequential\n",
        "from tensorflow.keras.layers import Conv2D, MaxPooling2D\n",
        "from tensorflow.keras.layers import Activation, Dropout, Flatten, Dense"
      ],
      "execution_count": null,
      "outputs": []
    },
    {
      "cell_type": "code",
      "metadata": {
        "id": "RzDlP4YdXqCF",
        "colab": {
          "base_uri": "https://localhost:8080/"
        },
        "outputId": "d4746cde-857b-4be0-e2b3-b9ca8013d6a0"
      },
      "source": [
        "from google.colab import drive\n",
        "drive.mount('/content/drive/')"
      ],
      "execution_count": null,
      "outputs": [
        {
          "output_type": "stream",
          "text": [
            "Drive already mounted at /content/drive/; to attempt to forcibly remount, call drive.mount(\"/content/drive/\", force_remount=True).\n"
          ],
          "name": "stdout"
        }
      ]
    },
    {
      "cell_type": "code",
      "metadata": {
        "id": "Cy4Lk9LvreLI"
      },
      "source": [
        "files = os.listdir(\"/content/drive/My Drive/Colab Notebooks/Dataset\")\n",
        "class_image = []\n",
        "for x in files:\n",
        "  output = x.split('.')[0]\n",
        "  if(output == 'Abhishek'):\n",
        "    class_image.append('Abhishek')\n",
        "\n",
        "  elif(output == 'Benoi'):\n",
        "    class_image.append('Benoi')\n",
        "\n",
        "  elif(output == 'Divya'):\n",
        "    class_image.append('Divya')\n",
        "\n",
        "  elif(output == 'Maziya'):\n",
        "    class_image.append('Maziya')   \n",
        "\n",
        "  elif(output == 'Purvika'):\n",
        "    class_image.append('Purvika')\n",
        "\n",
        "  elif(output == 'Rahul'):\n",
        "    class_image.append('Rahul')\n",
        "    \n",
        "  elif(output == 'Renesa'):\n",
        "    class_image.append('Renesa')\n",
        "    \n",
        "  elif(output == 'Sagarika'):\n",
        "    class_image.append('Sagarika')\n",
        "\n",
        "  elif(output == 'Samyak'):\n",
        "    class_image.append('Samyak')\n",
        "        \n",
        "  elif(output == 'Sayali'):\n",
        "    class_image.append('Sayali')\n",
        "        \n",
        "  elif(output == 'Sharvari'):\n",
        "    class_image.append('Sharvari')\n",
        "        \n",
        "  elif(output == 'Shivani'):\n",
        "    class_image.append('Shivani')\n",
        "        \n",
        "  elif(output == 'Shraddha'):\n",
        "    class_image.append('Shraddha')\n",
        "    \n",
        "  elif(output == 'Shubhankar'):\n",
        "    class_image.append('Shubhankar')\n",
        "\n",
        "  elif(output == 'Rutuja'):\n",
        "    class_image.append('Rutuja')\n",
        "\n",
        "  elif(output == 'Bhakti'):\n",
        "    class_image.append('Bhakti')\n",
        "\n",
        "  elif(output == 'Siddhika'):\n",
        "    class_image.append('Siddhika')  \n",
        "\n",
        "  elif(output == 'Shubham'):\n",
        "    class_image.append('Shubham')\n",
        "\n",
        "  elif(output == 'Vishal'):\n",
        "    class_image.append('Vishal')  \n",
        "\n",
        "  else:\n",
        "    class_image.append('Unzela')\n",
        "  \n",
        "\n",
        "df = pd.DataFrame({'filename':files, 'class':class_image})"
      ],
      "execution_count": null,
      "outputs": []
    },
    {
      "cell_type": "code",
      "metadata": {
        "id": "pLZBJzxjXni0",
        "colab": {
          "base_uri": "https://localhost:8080/",
          "height": 402
        },
        "outputId": "7576459c-2e3e-4422-d6a0-01572e0e9f0f"
      },
      "source": [
        "df"
      ],
      "execution_count": null,
      "outputs": [
        {
          "output_type": "execute_result",
          "data": {
            "text/html": [
              "<div>\n",
              "<style scoped>\n",
              "    .dataframe tbody tr th:only-of-type {\n",
              "        vertical-align: middle;\n",
              "    }\n",
              "\n",
              "    .dataframe tbody tr th {\n",
              "        vertical-align: top;\n",
              "    }\n",
              "\n",
              "    .dataframe thead th {\n",
              "        text-align: right;\n",
              "    }\n",
              "</style>\n",
              "<table border=\"1\" class=\"dataframe\">\n",
              "  <thead>\n",
              "    <tr style=\"text-align: right;\">\n",
              "      <th></th>\n",
              "      <th>filename</th>\n",
              "      <th>class</th>\n",
              "    </tr>\n",
              "  </thead>\n",
              "  <tbody>\n",
              "    <tr>\n",
              "      <th>0</th>\n",
              "      <td>Shubham.23.jpg</td>\n",
              "      <td>Shubham</td>\n",
              "    </tr>\n",
              "    <tr>\n",
              "      <th>1</th>\n",
              "      <td>Shubham.24.jpg</td>\n",
              "      <td>Shubham</td>\n",
              "    </tr>\n",
              "    <tr>\n",
              "      <th>2</th>\n",
              "      <td>Shubham.25.jpg</td>\n",
              "      <td>Shubham</td>\n",
              "    </tr>\n",
              "    <tr>\n",
              "      <th>3</th>\n",
              "      <td>Shubham.12.jpg</td>\n",
              "      <td>Shubham</td>\n",
              "    </tr>\n",
              "    <tr>\n",
              "      <th>4</th>\n",
              "      <td>Shubham.19.jpg</td>\n",
              "      <td>Shubham</td>\n",
              "    </tr>\n",
              "    <tr>\n",
              "      <th>...</th>\n",
              "      <td>...</td>\n",
              "      <td>...</td>\n",
              "    </tr>\n",
              "    <tr>\n",
              "      <th>495</th>\n",
              "      <td>Bhakti.14.jpg</td>\n",
              "      <td>Bhakti</td>\n",
              "    </tr>\n",
              "    <tr>\n",
              "      <th>496</th>\n",
              "      <td>Bhakti.12.jpg</td>\n",
              "      <td>Bhakti</td>\n",
              "    </tr>\n",
              "    <tr>\n",
              "      <th>497</th>\n",
              "      <td>Bhakti.13.jpg</td>\n",
              "      <td>Bhakti</td>\n",
              "    </tr>\n",
              "    <tr>\n",
              "      <th>498</th>\n",
              "      <td>Bhakti.11.jpg</td>\n",
              "      <td>Bhakti</td>\n",
              "    </tr>\n",
              "    <tr>\n",
              "      <th>499</th>\n",
              "      <td>Bhakti.16.jpg</td>\n",
              "      <td>Bhakti</td>\n",
              "    </tr>\n",
              "  </tbody>\n",
              "</table>\n",
              "<p>500 rows × 2 columns</p>\n",
              "</div>"
            ],
            "text/plain": [
              "           filename    class\n",
              "0    Shubham.23.jpg  Shubham\n",
              "1    Shubham.24.jpg  Shubham\n",
              "2    Shubham.25.jpg  Shubham\n",
              "3    Shubham.12.jpg  Shubham\n",
              "4    Shubham.19.jpg  Shubham\n",
              "..              ...      ...\n",
              "495   Bhakti.14.jpg   Bhakti\n",
              "496   Bhakti.12.jpg   Bhakti\n",
              "497   Bhakti.13.jpg   Bhakti\n",
              "498   Bhakti.11.jpg   Bhakti\n",
              "499   Bhakti.16.jpg   Bhakti\n",
              "\n",
              "[500 rows x 2 columns]"
            ]
          },
          "metadata": {
            "tags": []
          },
          "execution_count": 106
        }
      ]
    },
    {
      "cell_type": "code",
      "metadata": {
        "id": "HSAnuQJCrgg8"
      },
      "source": [
        "train, test = train_test_split(df, test_size=0.3, random_state=0)\n",
        "total_train = train.shape[0]\n",
        "total_test = test.shape[0]"
      ],
      "execution_count": null,
      "outputs": []
    },
    {
      "cell_type": "code",
      "metadata": {
        "id": "ICJyg75zsKIa"
      },
      "source": [
        "train = train.reset_index(drop=True)\n",
        "test = test.reset_index(drop=True)"
      ],
      "execution_count": null,
      "outputs": []
    },
    {
      "cell_type": "code",
      "metadata": {
        "id": "njnvB9vpsTMF"
      },
      "source": [
        "train_gen = ImageDataGenerator(\n",
        "    rotation_range=15,\n",
        "    rescale=1./255,\n",
        "    shear_range=0.1,\n",
        "    zoom_range=0.2,\n",
        "    horizontal_flip=True,\n",
        "    width_shift_range=0.1,\n",
        "    height_shift_range=0.1\n",
        ")\n",
        "\n",
        "validation_gen = ImageDataGenerator(rescale=1./255)"
      ],
      "execution_count": null,
      "outputs": []
    },
    {
      "cell_type": "code",
      "metadata": {
        "id": "daO2t_BtsaK4",
        "tags": [],
        "colab": {
          "base_uri": "https://localhost:8080/"
        },
        "outputId": "791e7c0c-41e3-4088-c1a5-b54d610ae775"
      },
      "source": [
        "train_generator = train_gen.flow_from_dataframe(\n",
        "    train, \n",
        "    \"/content/drive/My Drive/Colab Notebooks/Dataset\", \n",
        "    x_col='filename',\n",
        "    y_col='class',\n",
        "    target_size=(128,128),\n",
        "    class_mode='categorical',\n",
        "    batch_size=15\n",
        ")"
      ],
      "execution_count": null,
      "outputs": [
        {
          "output_type": "stream",
          "text": [
            "Found 350 validated image filenames belonging to 20 classes.\n"
          ],
          "name": "stdout"
        }
      ]
    },
    {
      "cell_type": "code",
      "metadata": {
        "id": "iI_i-JKCvJsu",
        "tags": [],
        "colab": {
          "base_uri": "https://localhost:8080/"
        },
        "outputId": "6afaa62b-f9d3-4d2c-cda7-57f3730da228"
      },
      "source": [
        "validation_datagen = ImageDataGenerator(rescale=1./255)\n",
        "validation_generator = validation_datagen.flow_from_dataframe(\n",
        "    test, \n",
        "    \"/content/drive/My Drive/Colab Notebooks/Dataset\", \n",
        "    x_col='filename',\n",
        "    y_col='class',\n",
        "    target_size=(128,128),\n",
        "    class_mode='categorical',\n",
        "    batch_size=15\n",
        ")"
      ],
      "execution_count": null,
      "outputs": [
        {
          "output_type": "stream",
          "text": [
            "Found 150 validated image filenames belonging to 20 classes.\n"
          ],
          "name": "stdout"
        }
      ]
    },
    {
      "cell_type": "code",
      "metadata": {
        "id": "jLOYtV6Zrwye"
      },
      "source": [
        "model = Sequential()\n",
        "\n",
        "model.add(Conv2D(32, (3, 3), activation='relu', input_shape=(128, 128, 3)))\n",
        "model.add(MaxPooling2D(pool_size=(2, 2)))\n",
        "model.add(Dropout(0.25))\n",
        "\n",
        "model.add(Conv2D(64, (3, 3), activation='relu'))\n",
        "model.add(MaxPooling2D(pool_size=(2, 2)))\n",
        "model.add(Dropout(0.25))\n",
        "\n",
        "model.add(Conv2D(128, (3, 3), activation='relu'))\n",
        "model.add(MaxPooling2D(pool_size=(2, 2)))\n",
        "model.add(Dropout(0.25))\n",
        "\n",
        "model.add(Conv2D(128, (3, 3), activation='relu'))\n",
        "model.add(MaxPooling2D(pool_size=(2, 2)))\n",
        "model.add(Dropout(0.25))\n",
        "\n",
        "model.add(Conv2D(128, (3, 3), activation='relu'))\n",
        "model.add(MaxPooling2D(pool_size=(2, 2)))\n",
        "model.add(Dropout(0.25))\n",
        "\n",
        "model.add(Flatten())\n",
        "model.add(Dense(512, activation='relu'))\n",
        "model.add(Dropout(0.5))\n",
        "model.add(Dense(20, activation='softmax')) "
      ],
      "execution_count": null,
      "outputs": []
    },
    {
      "cell_type": "code",
      "metadata": {
        "tags": [],
        "id": "Em5QU3CbWF5w"
      },
      "source": [
        "model.compile(loss='categorical_crossentropy', optimizer='adam', metrics=['accuracy'])\n",
        "#also try rmsprop, adam\n",
        "# model.summary()"
      ],
      "execution_count": null,
      "outputs": []
    },
    {
      "cell_type": "code",
      "metadata": {
        "id": "HDBqkKxAKg-y",
        "colab": {
          "base_uri": "https://localhost:8080/"
        },
        "outputId": "812da33b-f240-4901-99dc-aefa22e51a2c"
      },
      "source": [
        "model.summary()"
      ],
      "execution_count": null,
      "outputs": [
        {
          "output_type": "stream",
          "text": [
            "Model: \"sequential_8\"\n",
            "_________________________________________________________________\n",
            "Layer (type)                 Output Shape              Param #   \n",
            "=================================================================\n",
            "conv2d_40 (Conv2D)           (None, 126, 126, 32)      896       \n",
            "_________________________________________________________________\n",
            "max_pooling2d_40 (MaxPooling (None, 63, 63, 32)        0         \n",
            "_________________________________________________________________\n",
            "dropout_48 (Dropout)         (None, 63, 63, 32)        0         \n",
            "_________________________________________________________________\n",
            "conv2d_41 (Conv2D)           (None, 61, 61, 64)        18496     \n",
            "_________________________________________________________________\n",
            "max_pooling2d_41 (MaxPooling (None, 30, 30, 64)        0         \n",
            "_________________________________________________________________\n",
            "dropout_49 (Dropout)         (None, 30, 30, 64)        0         \n",
            "_________________________________________________________________\n",
            "conv2d_42 (Conv2D)           (None, 28, 28, 128)       73856     \n",
            "_________________________________________________________________\n",
            "max_pooling2d_42 (MaxPooling (None, 14, 14, 128)       0         \n",
            "_________________________________________________________________\n",
            "dropout_50 (Dropout)         (None, 14, 14, 128)       0         \n",
            "_________________________________________________________________\n",
            "conv2d_43 (Conv2D)           (None, 12, 12, 128)       147584    \n",
            "_________________________________________________________________\n",
            "max_pooling2d_43 (MaxPooling (None, 6, 6, 128)         0         \n",
            "_________________________________________________________________\n",
            "dropout_51 (Dropout)         (None, 6, 6, 128)         0         \n",
            "_________________________________________________________________\n",
            "conv2d_44 (Conv2D)           (None, 4, 4, 128)         147584    \n",
            "_________________________________________________________________\n",
            "max_pooling2d_44 (MaxPooling (None, 2, 2, 128)         0         \n",
            "_________________________________________________________________\n",
            "dropout_52 (Dropout)         (None, 2, 2, 128)         0         \n",
            "_________________________________________________________________\n",
            "flatten_8 (Flatten)          (None, 512)               0         \n",
            "_________________________________________________________________\n",
            "dense_16 (Dense)             (None, 512)               262656    \n",
            "_________________________________________________________________\n",
            "dropout_53 (Dropout)         (None, 512)               0         \n",
            "_________________________________________________________________\n",
            "dense_17 (Dense)             (None, 20)                10260     \n",
            "=================================================================\n",
            "Total params: 661,332\n",
            "Trainable params: 661,332\n",
            "Non-trainable params: 0\n",
            "_________________________________________________________________\n"
          ],
          "name": "stdout"
        }
      ]
    },
    {
      "cell_type": "code",
      "metadata": {
        "id": "Enf0n8jCr8vm",
        "tags": [],
        "colab": {
          "base_uri": "https://localhost:8080/"
        },
        "outputId": "ffbe081b-d6d1-4ee7-cd49-c2211bb0200b"
      },
      "source": [
        "epochs=250\n",
        "history = model.fit(train_generator,\n",
        "                    epochs=250,\n",
        "                    validation_data=validation_generator)"
      ],
      "execution_count": null,
      "outputs": [
        {
          "output_type": "stream",
          "text": [
            "Epoch 1/250\n",
            "24/24 [==============================] - 30s 1s/step - loss: 3.0228 - accuracy: 0.0486 - val_loss: 2.9984 - val_accuracy: 0.0467\n",
            "Epoch 2/250\n",
            "24/24 [==============================] - 29s 1s/step - loss: 2.9961 - accuracy: 0.0514 - val_loss: 3.0002 - val_accuracy: 0.0200\n",
            "Epoch 3/250\n",
            "24/24 [==============================] - 29s 1s/step - loss: 2.9965 - accuracy: 0.0829 - val_loss: 3.0034 - val_accuracy: 0.0333\n",
            "Epoch 4/250\n",
            "24/24 [==============================] - 29s 1s/step - loss: 2.9930 - accuracy: 0.0600 - val_loss: 3.0064 - val_accuracy: 0.0200\n",
            "Epoch 5/250\n",
            "24/24 [==============================] - 29s 1s/step - loss: 2.9916 - accuracy: 0.0543 - val_loss: 3.0092 - val_accuracy: 0.0200\n",
            "Epoch 6/250\n",
            "24/24 [==============================] - 30s 1s/step - loss: 2.9923 - accuracy: 0.0600 - val_loss: 3.0067 - val_accuracy: 0.0200\n",
            "Epoch 7/250\n",
            "24/24 [==============================] - 30s 1s/step - loss: 2.9921 - accuracy: 0.0543 - val_loss: 3.0121 - val_accuracy: 0.0200\n",
            "Epoch 8/250\n",
            "24/24 [==============================] - 29s 1s/step - loss: 2.9959 - accuracy: 0.0686 - val_loss: 3.0104 - val_accuracy: 0.0267\n",
            "Epoch 9/250\n",
            "24/24 [==============================] - 29s 1s/step - loss: 2.9918 - accuracy: 0.0486 - val_loss: 3.0129 - val_accuracy: 0.0333\n",
            "Epoch 10/250\n",
            "24/24 [==============================] - 29s 1s/step - loss: 2.9932 - accuracy: 0.0514 - val_loss: 3.0157 - val_accuracy: 0.0200\n",
            "Epoch 11/250\n",
            "24/24 [==============================] - 29s 1s/step - loss: 2.9909 - accuracy: 0.0629 - val_loss: 3.0171 - val_accuracy: 0.0200\n",
            "Epoch 12/250\n",
            "24/24 [==============================] - 29s 1s/step - loss: 2.9930 - accuracy: 0.0657 - val_loss: 3.0240 - val_accuracy: 0.0200\n",
            "Epoch 13/250\n",
            "24/24 [==============================] - 29s 1s/step - loss: 2.9868 - accuracy: 0.0714 - val_loss: 3.0301 - val_accuracy: 0.0400\n",
            "Epoch 14/250\n",
            "24/24 [==============================] - 29s 1s/step - loss: 2.9876 - accuracy: 0.0686 - val_loss: 3.0176 - val_accuracy: 0.0333\n",
            "Epoch 15/250\n",
            "24/24 [==============================] - 28s 1s/step - loss: 2.9862 - accuracy: 0.0486 - val_loss: 3.0253 - val_accuracy: 0.0333\n",
            "Epoch 16/250\n",
            "24/24 [==============================] - 29s 1s/step - loss: 2.9759 - accuracy: 0.0829 - val_loss: 3.0211 - val_accuracy: 0.0267\n",
            "Epoch 17/250\n",
            "24/24 [==============================] - 29s 1s/step - loss: 2.9547 - accuracy: 0.0971 - val_loss: 3.0055 - val_accuracy: 0.0400\n",
            "Epoch 18/250\n",
            "24/24 [==============================] - 29s 1s/step - loss: 2.9092 - accuracy: 0.1029 - val_loss: 3.0749 - val_accuracy: 0.0267\n",
            "Epoch 19/250\n",
            "24/24 [==============================] - 29s 1s/step - loss: 2.8827 - accuracy: 0.1114 - val_loss: 2.9896 - val_accuracy: 0.0400\n",
            "Epoch 20/250\n",
            "24/24 [==============================] - 29s 1s/step - loss: 2.8787 - accuracy: 0.1114 - val_loss: 2.9369 - val_accuracy: 0.0467\n",
            "Epoch 21/250\n",
            "24/24 [==============================] - 29s 1s/step - loss: 2.8375 - accuracy: 0.0886 - val_loss: 2.9754 - val_accuracy: 0.0200\n",
            "Epoch 22/250\n",
            "24/24 [==============================] - 29s 1s/step - loss: 2.8483 - accuracy: 0.1029 - val_loss: 2.9778 - val_accuracy: 0.0600\n",
            "Epoch 23/250\n",
            "24/24 [==============================] - 30s 1s/step - loss: 2.8149 - accuracy: 0.1314 - val_loss: 2.9548 - val_accuracy: 0.0533\n",
            "Epoch 24/250\n",
            "24/24 [==============================] - 29s 1s/step - loss: 2.8128 - accuracy: 0.1314 - val_loss: 2.9120 - val_accuracy: 0.0800\n",
            "Epoch 25/250\n",
            "24/24 [==============================] - 29s 1s/step - loss: 2.7661 - accuracy: 0.1714 - val_loss: 2.9250 - val_accuracy: 0.0667\n",
            "Epoch 26/250\n",
            "24/24 [==============================] - 29s 1s/step - loss: 2.7043 - accuracy: 0.1257 - val_loss: 2.9705 - val_accuracy: 0.0867\n",
            "Epoch 27/250\n",
            "24/24 [==============================] - 29s 1s/step - loss: 2.7406 - accuracy: 0.1486 - val_loss: 2.9260 - val_accuracy: 0.0867\n",
            "Epoch 28/250\n",
            "24/24 [==============================] - 29s 1s/step - loss: 2.6738 - accuracy: 0.1771 - val_loss: 2.9279 - val_accuracy: 0.1400\n",
            "Epoch 29/250\n",
            "24/24 [==============================] - 29s 1s/step - loss: 2.5999 - accuracy: 0.2086 - val_loss: 3.1885 - val_accuracy: 0.0800\n",
            "Epoch 30/250\n",
            "24/24 [==============================] - 29s 1s/step - loss: 2.6745 - accuracy: 0.1514 - val_loss: 2.9742 - val_accuracy: 0.0800\n",
            "Epoch 31/250\n",
            "24/24 [==============================] - 29s 1s/step - loss: 2.6321 - accuracy: 0.1657 - val_loss: 2.8377 - val_accuracy: 0.1400\n",
            "Epoch 32/250\n",
            "24/24 [==============================] - 29s 1s/step - loss: 2.5944 - accuracy: 0.1800 - val_loss: 2.8379 - val_accuracy: 0.1533\n",
            "Epoch 33/250\n",
            "24/24 [==============================] - 29s 1s/step - loss: 2.5733 - accuracy: 0.1914 - val_loss: 2.9108 - val_accuracy: 0.1733\n",
            "Epoch 34/250\n",
            "24/24 [==============================] - 29s 1s/step - loss: 2.5361 - accuracy: 0.1771 - val_loss: 2.8923 - val_accuracy: 0.1067\n",
            "Epoch 35/250\n",
            "24/24 [==============================] - 29s 1s/step - loss: 2.5492 - accuracy: 0.2029 - val_loss: 3.0306 - val_accuracy: 0.1133\n",
            "Epoch 36/250\n",
            "24/24 [==============================] - 30s 1s/step - loss: 2.5145 - accuracy: 0.2171 - val_loss: 2.8160 - val_accuracy: 0.1333\n",
            "Epoch 37/250\n",
            "24/24 [==============================] - 29s 1s/step - loss: 2.5196 - accuracy: 0.2057 - val_loss: 2.7900 - val_accuracy: 0.1400\n",
            "Epoch 38/250\n",
            "24/24 [==============================] - 29s 1s/step - loss: 2.5030 - accuracy: 0.2257 - val_loss: 2.9078 - val_accuracy: 0.1267\n",
            "Epoch 39/250\n",
            "24/24 [==============================] - 29s 1s/step - loss: 2.3956 - accuracy: 0.2514 - val_loss: 2.8051 - val_accuracy: 0.1533\n",
            "Epoch 40/250\n",
            "24/24 [==============================] - 29s 1s/step - loss: 2.4214 - accuracy: 0.2400 - val_loss: 2.7410 - val_accuracy: 0.1467\n",
            "Epoch 41/250\n",
            "24/24 [==============================] - 29s 1s/step - loss: 2.3497 - accuracy: 0.2257 - val_loss: 2.7973 - val_accuracy: 0.1800\n",
            "Epoch 42/250\n",
            "24/24 [==============================] - 29s 1s/step - loss: 2.3850 - accuracy: 0.2429 - val_loss: 2.9004 - val_accuracy: 0.1600\n",
            "Epoch 43/250\n",
            "24/24 [==============================] - 29s 1s/step - loss: 2.3964 - accuracy: 0.2657 - val_loss: 2.9408 - val_accuracy: 0.0867\n",
            "Epoch 44/250\n",
            "24/24 [==============================] - 30s 1s/step - loss: 2.3874 - accuracy: 0.2429 - val_loss: 2.8614 - val_accuracy: 0.1333\n",
            "Epoch 45/250\n",
            "24/24 [==============================] - 30s 1s/step - loss: 2.2956 - accuracy: 0.2657 - val_loss: 2.7242 - val_accuracy: 0.1733\n",
            "Epoch 46/250\n",
            "24/24 [==============================] - 29s 1s/step - loss: 2.3395 - accuracy: 0.2543 - val_loss: 2.8801 - val_accuracy: 0.1267\n",
            "Epoch 47/250\n",
            "24/24 [==============================] - 30s 1s/step - loss: 2.3388 - accuracy: 0.2229 - val_loss: 2.8520 - val_accuracy: 0.1533\n",
            "Epoch 48/250\n",
            "24/24 [==============================] - 30s 1s/step - loss: 2.2411 - accuracy: 0.2971 - val_loss: 2.8844 - val_accuracy: 0.1800\n",
            "Epoch 49/250\n",
            "24/24 [==============================] - 29s 1s/step - loss: 2.1436 - accuracy: 0.3200 - val_loss: 2.7952 - val_accuracy: 0.1733\n",
            "Epoch 50/250\n",
            "24/24 [==============================] - 29s 1s/step - loss: 2.2313 - accuracy: 0.2971 - val_loss: 2.8180 - val_accuracy: 0.1800\n",
            "Epoch 51/250\n",
            "24/24 [==============================] - 30s 1s/step - loss: 2.2408 - accuracy: 0.3257 - val_loss: 2.8245 - val_accuracy: 0.1533\n",
            "Epoch 52/250\n",
            "24/24 [==============================] - 30s 1s/step - loss: 2.1935 - accuracy: 0.2943 - val_loss: 2.7511 - val_accuracy: 0.1867\n",
            "Epoch 53/250\n",
            "24/24 [==============================] - 30s 1s/step - loss: 2.1305 - accuracy: 0.3257 - val_loss: 2.8489 - val_accuracy: 0.1933\n",
            "Epoch 54/250\n",
            "24/24 [==============================] - 30s 1s/step - loss: 2.1354 - accuracy: 0.3371 - val_loss: 2.9396 - val_accuracy: 0.1733\n",
            "Epoch 55/250\n",
            "24/24 [==============================] - 30s 1s/step - loss: 2.1335 - accuracy: 0.3486 - val_loss: 2.8730 - val_accuracy: 0.1933\n",
            "Epoch 56/250\n",
            "24/24 [==============================] - 29s 1s/step - loss: 2.1420 - accuracy: 0.3143 - val_loss: 2.8112 - val_accuracy: 0.1733\n",
            "Epoch 57/250\n",
            "24/24 [==============================] - 31s 1s/step - loss: 2.0176 - accuracy: 0.3657 - val_loss: 2.9826 - val_accuracy: 0.1533\n",
            "Epoch 58/250\n",
            "24/24 [==============================] - 30s 1s/step - loss: 2.0104 - accuracy: 0.3686 - val_loss: 2.8341 - val_accuracy: 0.1933\n",
            "Epoch 59/250\n",
            "24/24 [==============================] - 30s 1s/step - loss: 2.0817 - accuracy: 0.3200 - val_loss: 2.7788 - val_accuracy: 0.1800\n",
            "Epoch 60/250\n",
            "24/24 [==============================] - 30s 1s/step - loss: 1.9823 - accuracy: 0.3571 - val_loss: 2.8438 - val_accuracy: 0.1667\n",
            "Epoch 61/250\n",
            "24/24 [==============================] - 30s 1s/step - loss: 1.9979 - accuracy: 0.3686 - val_loss: 2.9064 - val_accuracy: 0.1733\n",
            "Epoch 62/250\n",
            "24/24 [==============================] - 30s 1s/step - loss: 1.9034 - accuracy: 0.3657 - val_loss: 3.2082 - val_accuracy: 0.1267\n",
            "Epoch 63/250\n",
            "24/24 [==============================] - 30s 1s/step - loss: 1.8737 - accuracy: 0.3657 - val_loss: 2.9551 - val_accuracy: 0.2000\n",
            "Epoch 64/250\n",
            "24/24 [==============================] - 30s 1s/step - loss: 1.9382 - accuracy: 0.3971 - val_loss: 2.8938 - val_accuracy: 0.2000\n",
            "Epoch 65/250\n",
            "24/24 [==============================] - 29s 1s/step - loss: 1.9286 - accuracy: 0.3886 - val_loss: 3.0605 - val_accuracy: 0.1933\n",
            "Epoch 66/250\n",
            "24/24 [==============================] - 29s 1s/step - loss: 1.7700 - accuracy: 0.4200 - val_loss: 3.4580 - val_accuracy: 0.1400\n",
            "Epoch 67/250\n",
            "24/24 [==============================] - 29s 1s/step - loss: 1.8447 - accuracy: 0.4171 - val_loss: 2.8747 - val_accuracy: 0.2200\n",
            "Epoch 68/250\n",
            "24/24 [==============================] - 30s 1s/step - loss: 1.8518 - accuracy: 0.3914 - val_loss: 2.9652 - val_accuracy: 0.1600\n",
            "Epoch 69/250\n",
            "24/24 [==============================] - 30s 1s/step - loss: 1.8236 - accuracy: 0.4057 - val_loss: 3.2031 - val_accuracy: 0.1467\n",
            "Epoch 70/250\n",
            "24/24 [==============================] - 30s 1s/step - loss: 1.8739 - accuracy: 0.4171 - val_loss: 2.9253 - val_accuracy: 0.1933\n",
            "Epoch 71/250\n",
            "24/24 [==============================] - 30s 1s/step - loss: 1.8808 - accuracy: 0.4057 - val_loss: 2.8543 - val_accuracy: 0.2133\n",
            "Epoch 72/250\n",
            "24/24 [==============================] - 30s 1s/step - loss: 1.7112 - accuracy: 0.4171 - val_loss: 2.8733 - val_accuracy: 0.2200\n",
            "Epoch 73/250\n",
            "24/24 [==============================] - 29s 1s/step - loss: 1.7514 - accuracy: 0.4486 - val_loss: 2.9464 - val_accuracy: 0.2333\n",
            "Epoch 74/250\n",
            "24/24 [==============================] - 30s 1s/step - loss: 1.8145 - accuracy: 0.4429 - val_loss: 2.8513 - val_accuracy: 0.2133\n",
            "Epoch 75/250\n",
            "24/24 [==============================] - 30s 1s/step - loss: 1.7271 - accuracy: 0.4771 - val_loss: 2.9893 - val_accuracy: 0.2533\n",
            "Epoch 76/250\n",
            "24/24 [==============================] - 29s 1s/step - loss: 1.7807 - accuracy: 0.4314 - val_loss: 3.1900 - val_accuracy: 0.2067\n",
            "Epoch 77/250\n",
            "24/24 [==============================] - 30s 1s/step - loss: 1.7783 - accuracy: 0.3971 - val_loss: 2.9020 - val_accuracy: 0.2200\n",
            "Epoch 78/250\n",
            "24/24 [==============================] - 30s 1s/step - loss: 1.7609 - accuracy: 0.4686 - val_loss: 2.8891 - val_accuracy: 0.2400\n",
            "Epoch 79/250\n",
            "24/24 [==============================] - 30s 1s/step - loss: 1.6696 - accuracy: 0.4657 - val_loss: 3.1452 - val_accuracy: 0.1867\n",
            "Epoch 80/250\n",
            "24/24 [==============================] - 30s 1s/step - loss: 1.6002 - accuracy: 0.4857 - val_loss: 3.0329 - val_accuracy: 0.2333\n",
            "Epoch 81/250\n",
            "24/24 [==============================] - 30s 1s/step - loss: 1.5416 - accuracy: 0.5343 - val_loss: 3.0490 - val_accuracy: 0.2400\n",
            "Epoch 82/250\n",
            "24/24 [==============================] - 30s 1s/step - loss: 1.5606 - accuracy: 0.4886 - val_loss: 3.2474 - val_accuracy: 0.2533\n",
            "Epoch 83/250\n",
            "24/24 [==============================] - 30s 1s/step - loss: 1.5937 - accuracy: 0.4829 - val_loss: 2.9431 - val_accuracy: 0.2333\n",
            "Epoch 84/250\n",
            "24/24 [==============================] - 30s 1s/step - loss: 1.5366 - accuracy: 0.5114 - val_loss: 3.1229 - val_accuracy: 0.1867\n",
            "Epoch 85/250\n",
            "24/24 [==============================] - 30s 1s/step - loss: 1.6355 - accuracy: 0.4771 - val_loss: 3.1266 - val_accuracy: 0.2400\n",
            "Epoch 86/250\n",
            "24/24 [==============================] - 30s 1s/step - loss: 1.5137 - accuracy: 0.5057 - val_loss: 3.0024 - val_accuracy: 0.2200\n",
            "Epoch 87/250\n",
            "24/24 [==============================] - 31s 1s/step - loss: 1.4915 - accuracy: 0.5114 - val_loss: 3.3215 - val_accuracy: 0.1933\n",
            "Epoch 88/250\n",
            "24/24 [==============================] - 30s 1s/step - loss: 1.4429 - accuracy: 0.5143 - val_loss: 3.3483 - val_accuracy: 0.2067\n",
            "Epoch 89/250\n",
            "24/24 [==============================] - 30s 1s/step - loss: 1.5185 - accuracy: 0.4771 - val_loss: 3.3076 - val_accuracy: 0.2067\n",
            "Epoch 90/250\n",
            "24/24 [==============================] - 30s 1s/step - loss: 1.4173 - accuracy: 0.5600 - val_loss: 3.1284 - val_accuracy: 0.2467\n",
            "Epoch 91/250\n",
            "24/24 [==============================] - 31s 1s/step - loss: 1.4424 - accuracy: 0.5543 - val_loss: 3.3903 - val_accuracy: 0.2067\n",
            "Epoch 92/250\n",
            "24/24 [==============================] - 30s 1s/step - loss: 1.4223 - accuracy: 0.5543 - val_loss: 3.4575 - val_accuracy: 0.2267\n",
            "Epoch 93/250\n",
            "24/24 [==============================] - 30s 1s/step - loss: 1.4813 - accuracy: 0.5571 - val_loss: 3.5763 - val_accuracy: 0.2067\n",
            "Epoch 94/250\n",
            "24/24 [==============================] - 30s 1s/step - loss: 1.3372 - accuracy: 0.5800 - val_loss: 3.4322 - val_accuracy: 0.2133\n",
            "Epoch 95/250\n",
            "24/24 [==============================] - 30s 1s/step - loss: 1.3880 - accuracy: 0.5600 - val_loss: 3.7029 - val_accuracy: 0.1867\n",
            "Epoch 96/250\n",
            "24/24 [==============================] - 30s 1s/step - loss: 1.4460 - accuracy: 0.5400 - val_loss: 3.4765 - val_accuracy: 0.1933\n",
            "Epoch 97/250\n",
            "24/24 [==============================] - 30s 1s/step - loss: 1.4326 - accuracy: 0.5657 - val_loss: 3.1981 - val_accuracy: 0.2133\n",
            "Epoch 98/250\n",
            "24/24 [==============================] - 30s 1s/step - loss: 1.3067 - accuracy: 0.5686 - val_loss: 3.2377 - val_accuracy: 0.1867\n",
            "Epoch 99/250\n",
            "24/24 [==============================] - 31s 1s/step - loss: 1.3883 - accuracy: 0.5086 - val_loss: 3.4692 - val_accuracy: 0.2133\n",
            "Epoch 100/250\n",
            "24/24 [==============================] - 30s 1s/step - loss: 1.3215 - accuracy: 0.5714 - val_loss: 3.3254 - val_accuracy: 0.2467\n",
            "Epoch 101/250\n",
            "24/24 [==============================] - 31s 1s/step - loss: 1.2485 - accuracy: 0.5886 - val_loss: 3.6574 - val_accuracy: 0.2400\n",
            "Epoch 102/250\n",
            "24/24 [==============================] - 30s 1s/step - loss: 1.3023 - accuracy: 0.5886 - val_loss: 3.1640 - val_accuracy: 0.2200\n",
            "Epoch 103/250\n",
            "24/24 [==============================] - 30s 1s/step - loss: 1.2519 - accuracy: 0.6086 - val_loss: 3.4084 - val_accuracy: 0.2533\n",
            "Epoch 104/250\n",
            "24/24 [==============================] - 30s 1s/step - loss: 1.2877 - accuracy: 0.5829 - val_loss: 3.5752 - val_accuracy: 0.2667\n",
            "Epoch 105/250\n",
            "24/24 [==============================] - 30s 1s/step - loss: 1.2464 - accuracy: 0.6000 - val_loss: 3.3716 - val_accuracy: 0.2600\n",
            "Epoch 106/250\n",
            "24/24 [==============================] - 30s 1s/step - loss: 1.2834 - accuracy: 0.5971 - val_loss: 3.3299 - val_accuracy: 0.2533\n",
            "Epoch 107/250\n",
            "24/24 [==============================] - 31s 1s/step - loss: 1.2782 - accuracy: 0.5743 - val_loss: 3.3233 - val_accuracy: 0.2600\n",
            "Epoch 108/250\n",
            "24/24 [==============================] - 30s 1s/step - loss: 1.1523 - accuracy: 0.6429 - val_loss: 3.1480 - val_accuracy: 0.2600\n",
            "Epoch 109/250\n",
            "24/24 [==============================] - 31s 1s/step - loss: 1.2134 - accuracy: 0.6114 - val_loss: 3.3717 - val_accuracy: 0.2067\n",
            "Epoch 110/250\n",
            "24/24 [==============================] - 30s 1s/step - loss: 1.2601 - accuracy: 0.5571 - val_loss: 3.6001 - val_accuracy: 0.2667\n",
            "Epoch 111/250\n",
            "24/24 [==============================] - 30s 1s/step - loss: 1.2725 - accuracy: 0.5943 - val_loss: 3.2413 - val_accuracy: 0.2400\n",
            "Epoch 112/250\n",
            "24/24 [==============================] - 30s 1s/step - loss: 1.2259 - accuracy: 0.5857 - val_loss: 3.7058 - val_accuracy: 0.2267\n",
            "Epoch 113/250\n",
            "24/24 [==============================] - 30s 1s/step - loss: 1.2597 - accuracy: 0.5886 - val_loss: 3.4680 - val_accuracy: 0.2400\n",
            "Epoch 114/250\n",
            "24/24 [==============================] - 31s 1s/step - loss: 1.1313 - accuracy: 0.6229 - val_loss: 3.4425 - val_accuracy: 0.2333\n",
            "Epoch 115/250\n",
            "24/24 [==============================] - 30s 1s/step - loss: 1.3234 - accuracy: 0.5686 - val_loss: 3.3182 - val_accuracy: 0.2467\n",
            "Epoch 116/250\n",
            "24/24 [==============================] - 30s 1s/step - loss: 1.1703 - accuracy: 0.6400 - val_loss: 3.7081 - val_accuracy: 0.2267\n",
            "Epoch 117/250\n",
            "24/24 [==============================] - 31s 1s/step - loss: 1.2029 - accuracy: 0.6657 - val_loss: 3.4418 - val_accuracy: 0.2267\n",
            "Epoch 118/250\n",
            "24/24 [==============================] - 30s 1s/step - loss: 1.0154 - accuracy: 0.6657 - val_loss: 3.8045 - val_accuracy: 0.2600\n",
            "Epoch 119/250\n",
            "24/24 [==============================] - 30s 1s/step - loss: 1.2147 - accuracy: 0.6343 - val_loss: 3.4603 - val_accuracy: 0.2267\n",
            "Epoch 120/250\n",
            "24/24 [==============================] - 30s 1s/step - loss: 1.2467 - accuracy: 0.5886 - val_loss: 3.4342 - val_accuracy: 0.2533\n",
            "Epoch 121/250\n",
            "24/24 [==============================] - 30s 1s/step - loss: 1.1874 - accuracy: 0.6343 - val_loss: 3.1852 - val_accuracy: 0.2267\n",
            "Epoch 122/250\n",
            "24/24 [==============================] - 30s 1s/step - loss: 1.0721 - accuracy: 0.6286 - val_loss: 3.3644 - val_accuracy: 0.2667\n",
            "Epoch 123/250\n",
            "24/24 [==============================] - 31s 1s/step - loss: 1.0403 - accuracy: 0.6600 - val_loss: 3.5646 - val_accuracy: 0.2333\n",
            "Epoch 124/250\n",
            "24/24 [==============================] - 30s 1s/step - loss: 1.1795 - accuracy: 0.6371 - val_loss: 3.7862 - val_accuracy: 0.2333\n",
            "Epoch 125/250\n",
            "24/24 [==============================] - 30s 1s/step - loss: 1.2218 - accuracy: 0.6000 - val_loss: 3.3852 - val_accuracy: 0.2333\n",
            "Epoch 126/250\n",
            "24/24 [==============================] - 30s 1s/step - loss: 0.9558 - accuracy: 0.6771 - val_loss: 3.7346 - val_accuracy: 0.2200\n",
            "Epoch 127/250\n",
            "24/24 [==============================] - 31s 1s/step - loss: 1.0963 - accuracy: 0.6686 - val_loss: 3.4818 - val_accuracy: 0.2667\n",
            "Epoch 128/250\n",
            "24/24 [==============================] - 30s 1s/step - loss: 1.0342 - accuracy: 0.6486 - val_loss: 3.5894 - val_accuracy: 0.2867\n",
            "Epoch 129/250\n",
            "24/24 [==============================] - 31s 1s/step - loss: 1.0695 - accuracy: 0.6657 - val_loss: 3.5066 - val_accuracy: 0.2600\n",
            "Epoch 130/250\n",
            "24/24 [==============================] - 31s 1s/step - loss: 0.9961 - accuracy: 0.7029 - val_loss: 3.5327 - val_accuracy: 0.2733\n",
            "Epoch 131/250\n",
            "24/24 [==============================] - 31s 1s/step - loss: 0.9564 - accuracy: 0.6771 - val_loss: 4.0131 - val_accuracy: 0.2600\n",
            "Epoch 132/250\n",
            "24/24 [==============================] - 30s 1s/step - loss: 0.9886 - accuracy: 0.6829 - val_loss: 3.7987 - val_accuracy: 0.2667\n",
            "Epoch 133/250\n",
            "24/24 [==============================] - 30s 1s/step - loss: 1.0317 - accuracy: 0.6886 - val_loss: 3.7767 - val_accuracy: 0.2867\n",
            "Epoch 134/250\n",
            "24/24 [==============================] - 31s 1s/step - loss: 1.0532 - accuracy: 0.6743 - val_loss: 3.4342 - val_accuracy: 0.2733\n",
            "Epoch 135/250\n",
            "24/24 [==============================] - 31s 1s/step - loss: 0.9876 - accuracy: 0.6829 - val_loss: 3.3909 - val_accuracy: 0.2733\n",
            "Epoch 136/250\n",
            "24/24 [==============================] - 30s 1s/step - loss: 1.0585 - accuracy: 0.6600 - val_loss: 3.8685 - val_accuracy: 0.3000\n",
            "Epoch 137/250\n",
            "24/24 [==============================] - 31s 1s/step - loss: 0.9579 - accuracy: 0.6829 - val_loss: 3.7081 - val_accuracy: 0.2733\n",
            "Epoch 138/250\n",
            "24/24 [==============================] - 29s 1s/step - loss: 0.8472 - accuracy: 0.7286 - val_loss: 3.8651 - val_accuracy: 0.2733\n",
            "Epoch 139/250\n",
            "24/24 [==============================] - 29s 1s/step - loss: 0.9955 - accuracy: 0.6857 - val_loss: 3.7071 - val_accuracy: 0.2667\n",
            "Epoch 140/250\n",
            "24/24 [==============================] - 29s 1s/step - loss: 0.9716 - accuracy: 0.6829 - val_loss: 3.5407 - val_accuracy: 0.2733\n",
            "Epoch 141/250\n",
            "24/24 [==============================] - 29s 1s/step - loss: 1.0213 - accuracy: 0.6714 - val_loss: 3.7366 - val_accuracy: 0.2600\n",
            "Epoch 142/250\n",
            "24/24 [==============================] - 29s 1s/step - loss: 0.9177 - accuracy: 0.6914 - val_loss: 3.8979 - val_accuracy: 0.2333\n",
            "Epoch 143/250\n",
            "24/24 [==============================] - 30s 1s/step - loss: 0.8531 - accuracy: 0.7000 - val_loss: 3.7873 - val_accuracy: 0.2533\n",
            "Epoch 144/250\n",
            "24/24 [==============================] - 31s 1s/step - loss: 0.8677 - accuracy: 0.7229 - val_loss: 4.0006 - val_accuracy: 0.3333\n",
            "Epoch 145/250\n",
            "24/24 [==============================] - 31s 1s/step - loss: 0.8617 - accuracy: 0.7114 - val_loss: 4.0249 - val_accuracy: 0.2867\n",
            "Epoch 146/250\n",
            "24/24 [==============================] - 30s 1s/step - loss: 0.9649 - accuracy: 0.6829 - val_loss: 3.8886 - val_accuracy: 0.2733\n",
            "Epoch 147/250\n",
            "24/24 [==============================] - 31s 1s/step - loss: 0.9472 - accuracy: 0.7086 - val_loss: 4.1819 - val_accuracy: 0.2533\n",
            "Epoch 148/250\n",
            "24/24 [==============================] - 30s 1s/step - loss: 1.0655 - accuracy: 0.6657 - val_loss: 3.5157 - val_accuracy: 0.2600\n",
            "Epoch 149/250\n",
            "24/24 [==============================] - 30s 1s/step - loss: 0.8625 - accuracy: 0.7371 - val_loss: 3.5809 - val_accuracy: 0.2867\n",
            "Epoch 150/250\n",
            "24/24 [==============================] - 30s 1s/step - loss: 0.8891 - accuracy: 0.7257 - val_loss: 4.0500 - val_accuracy: 0.2733\n",
            "Epoch 151/250\n",
            "24/24 [==============================] - 31s 1s/step - loss: 1.1105 - accuracy: 0.6857 - val_loss: 3.7558 - val_accuracy: 0.2733\n",
            "Epoch 152/250\n",
            "24/24 [==============================] - 31s 1s/step - loss: 0.8769 - accuracy: 0.7257 - val_loss: 3.8401 - val_accuracy: 0.2333\n",
            "Epoch 153/250\n",
            "24/24 [==============================] - 30s 1s/step - loss: 0.9413 - accuracy: 0.7057 - val_loss: 3.8552 - val_accuracy: 0.2800\n",
            "Epoch 154/250\n",
            "24/24 [==============================] - 30s 1s/step - loss: 0.8601 - accuracy: 0.7029 - val_loss: 3.5440 - val_accuracy: 0.2733\n",
            "Epoch 155/250\n",
            "24/24 [==============================] - 31s 1s/step - loss: 0.8820 - accuracy: 0.7057 - val_loss: 4.1135 - val_accuracy: 0.2267\n",
            "Epoch 156/250\n",
            "24/24 [==============================] - 30s 1s/step - loss: 0.8418 - accuracy: 0.7371 - val_loss: 3.8390 - val_accuracy: 0.2400\n",
            "Epoch 157/250\n",
            "24/24 [==============================] - 31s 1s/step - loss: 0.7701 - accuracy: 0.7543 - val_loss: 3.9014 - val_accuracy: 0.2600\n",
            "Epoch 158/250\n",
            "24/24 [==============================] - 30s 1s/step - loss: 0.8700 - accuracy: 0.6886 - val_loss: 3.7314 - val_accuracy: 0.2800\n",
            "Epoch 159/250\n",
            "24/24 [==============================] - 30s 1s/step - loss: 0.8222 - accuracy: 0.7514 - val_loss: 3.6283 - val_accuracy: 0.2600\n",
            "Epoch 160/250\n",
            "24/24 [==============================] - 30s 1s/step - loss: 0.6951 - accuracy: 0.7800 - val_loss: 4.0023 - val_accuracy: 0.2667\n",
            "Epoch 161/250\n",
            "24/24 [==============================] - 29s 1s/step - loss: 0.8396 - accuracy: 0.7457 - val_loss: 4.1726 - val_accuracy: 0.2733\n",
            "Epoch 162/250\n",
            "24/24 [==============================] - 30s 1s/step - loss: 0.8463 - accuracy: 0.7371 - val_loss: 4.2792 - val_accuracy: 0.2733\n",
            "Epoch 163/250\n",
            "24/24 [==============================] - 31s 1s/step - loss: 0.8134 - accuracy: 0.7314 - val_loss: 4.0076 - val_accuracy: 0.2933\n",
            "Epoch 164/250\n",
            "24/24 [==============================] - 30s 1s/step - loss: 0.7071 - accuracy: 0.7829 - val_loss: 4.0588 - val_accuracy: 0.2533\n",
            "Epoch 165/250\n",
            "24/24 [==============================] - 30s 1s/step - loss: 0.7411 - accuracy: 0.7486 - val_loss: 4.3359 - val_accuracy: 0.2600\n",
            "Epoch 166/250\n",
            "24/24 [==============================] - 30s 1s/step - loss: 0.7818 - accuracy: 0.7686 - val_loss: 4.1858 - val_accuracy: 0.2867\n",
            "Epoch 167/250\n",
            "24/24 [==============================] - 31s 1s/step - loss: 0.6624 - accuracy: 0.7800 - val_loss: 4.3322 - val_accuracy: 0.2533\n",
            "Epoch 168/250\n",
            "24/24 [==============================] - 31s 1s/step - loss: 0.7585 - accuracy: 0.7629 - val_loss: 4.7135 - val_accuracy: 0.2333\n",
            "Epoch 169/250\n",
            "24/24 [==============================] - 30s 1s/step - loss: 0.5968 - accuracy: 0.7857 - val_loss: 4.8701 - val_accuracy: 0.2600\n",
            "Epoch 170/250\n",
            "24/24 [==============================] - 30s 1s/step - loss: 0.6597 - accuracy: 0.8057 - val_loss: 4.7372 - val_accuracy: 0.2467\n",
            "Epoch 171/250\n",
            "24/24 [==============================] - 31s 1s/step - loss: 0.7102 - accuracy: 0.7686 - val_loss: 4.8900 - val_accuracy: 0.2400\n",
            "Epoch 172/250\n",
            "24/24 [==============================] - 31s 1s/step - loss: 0.7541 - accuracy: 0.7457 - val_loss: 4.3707 - val_accuracy: 0.2733\n",
            "Epoch 173/250\n",
            "24/24 [==============================] - 31s 1s/step - loss: 0.6777 - accuracy: 0.7686 - val_loss: 4.3162 - val_accuracy: 0.2533\n",
            "Epoch 174/250\n",
            "24/24 [==============================] - 31s 1s/step - loss: 0.6230 - accuracy: 0.7857 - val_loss: 4.4160 - val_accuracy: 0.2533\n",
            "Epoch 175/250\n",
            "24/24 [==============================] - 31s 1s/step - loss: 0.7456 - accuracy: 0.7600 - val_loss: 5.0117 - val_accuracy: 0.2533\n",
            "Epoch 176/250\n",
            "24/24 [==============================] - 31s 1s/step - loss: 0.7487 - accuracy: 0.7571 - val_loss: 4.6002 - val_accuracy: 0.2933\n",
            "Epoch 177/250\n",
            "24/24 [==============================] - 31s 1s/step - loss: 0.8542 - accuracy: 0.7200 - val_loss: 4.3945 - val_accuracy: 0.2867\n",
            "Epoch 178/250\n",
            "24/24 [==============================] - 30s 1s/step - loss: 0.6940 - accuracy: 0.7886 - val_loss: 4.2682 - val_accuracy: 0.2600\n",
            "Epoch 179/250\n",
            "24/24 [==============================] - 30s 1s/step - loss: 0.7087 - accuracy: 0.8000 - val_loss: 4.2133 - val_accuracy: 0.2667\n",
            "Epoch 180/250\n",
            "24/24 [==============================] - 31s 1s/step - loss: 0.6354 - accuracy: 0.7914 - val_loss: 4.4291 - val_accuracy: 0.2867\n",
            "Epoch 181/250\n",
            "24/24 [==============================] - 30s 1s/step - loss: 0.6940 - accuracy: 0.7686 - val_loss: 4.4350 - val_accuracy: 0.2733\n",
            "Epoch 182/250\n",
            "24/24 [==============================] - 30s 1s/step - loss: 0.7969 - accuracy: 0.7629 - val_loss: 4.4458 - val_accuracy: 0.2800\n",
            "Epoch 183/250\n",
            "24/24 [==============================] - 30s 1s/step - loss: 0.8262 - accuracy: 0.7343 - val_loss: 4.4509 - val_accuracy: 0.2600\n",
            "Epoch 184/250\n",
            "24/24 [==============================] - 30s 1s/step - loss: 0.6248 - accuracy: 0.8029 - val_loss: 4.4322 - val_accuracy: 0.2867\n",
            "Epoch 185/250\n",
            "24/24 [==============================] - 30s 1s/step - loss: 0.8352 - accuracy: 0.7714 - val_loss: 4.5056 - val_accuracy: 0.2867\n",
            "Epoch 186/250\n",
            "24/24 [==============================] - 30s 1s/step - loss: 0.7702 - accuracy: 0.7629 - val_loss: 4.4536 - val_accuracy: 0.2600\n",
            "Epoch 187/250\n",
            "24/24 [==============================] - 30s 1s/step - loss: 0.6977 - accuracy: 0.7886 - val_loss: 4.5163 - val_accuracy: 0.2600\n",
            "Epoch 188/250\n",
            "24/24 [==============================] - 30s 1s/step - loss: 0.6117 - accuracy: 0.7914 - val_loss: 4.6376 - val_accuracy: 0.2600\n",
            "Epoch 189/250\n",
            "24/24 [==============================] - 29s 1s/step - loss: 0.7345 - accuracy: 0.7514 - val_loss: 4.5925 - val_accuracy: 0.2867\n",
            "Epoch 190/250\n",
            "24/24 [==============================] - 30s 1s/step - loss: 0.6902 - accuracy: 0.7743 - val_loss: 4.5030 - val_accuracy: 0.2800\n",
            "Epoch 191/250\n",
            "24/24 [==============================] - 29s 1s/step - loss: 0.6508 - accuracy: 0.8086 - val_loss: 4.4203 - val_accuracy: 0.2667\n",
            "Epoch 192/250\n",
            "24/24 [==============================] - 29s 1s/step - loss: 0.6859 - accuracy: 0.7800 - val_loss: 4.4968 - val_accuracy: 0.2867\n",
            "Epoch 193/250\n",
            "24/24 [==============================] - 30s 1s/step - loss: 0.6788 - accuracy: 0.7543 - val_loss: 4.3891 - val_accuracy: 0.2800\n",
            "Epoch 194/250\n",
            "24/24 [==============================] - 30s 1s/step - loss: 0.6769 - accuracy: 0.7886 - val_loss: 4.2711 - val_accuracy: 0.2667\n",
            "Epoch 195/250\n",
            "24/24 [==============================] - 30s 1s/step - loss: 0.5486 - accuracy: 0.8229 - val_loss: 4.8653 - val_accuracy: 0.2600\n",
            "Epoch 196/250\n",
            "24/24 [==============================] - 30s 1s/step - loss: 0.6202 - accuracy: 0.7971 - val_loss: 4.7434 - val_accuracy: 0.2667\n",
            "Epoch 197/250\n",
            "24/24 [==============================] - 31s 1s/step - loss: 0.5630 - accuracy: 0.8200 - val_loss: 4.8880 - val_accuracy: 0.2600\n",
            "Epoch 198/250\n",
            "24/24 [==============================] - 30s 1s/step - loss: 0.6467 - accuracy: 0.7686 - val_loss: 4.7547 - val_accuracy: 0.2800\n",
            "Epoch 199/250\n",
            "24/24 [==============================] - 30s 1s/step - loss: 0.7696 - accuracy: 0.7400 - val_loss: 4.3825 - val_accuracy: 0.2933\n",
            "Epoch 200/250\n",
            "24/24 [==============================] - 30s 1s/step - loss: 0.6073 - accuracy: 0.7943 - val_loss: 4.1080 - val_accuracy: 0.2667\n",
            "Epoch 201/250\n",
            "24/24 [==============================] - 31s 1s/step - loss: 0.6273 - accuracy: 0.8057 - val_loss: 4.5085 - val_accuracy: 0.3067\n",
            "Epoch 202/250\n",
            "24/24 [==============================] - 30s 1s/step - loss: 0.6545 - accuracy: 0.8057 - val_loss: 4.1753 - val_accuracy: 0.2733\n",
            "Epoch 203/250\n",
            "24/24 [==============================] - 29s 1s/step - loss: 0.6606 - accuracy: 0.7800 - val_loss: 4.5665 - val_accuracy: 0.3000\n",
            "Epoch 204/250\n",
            "24/24 [==============================] - 30s 1s/step - loss: 0.5373 - accuracy: 0.8400 - val_loss: 4.4466 - val_accuracy: 0.2600\n",
            "Epoch 205/250\n",
            "24/24 [==============================] - 29s 1s/step - loss: 0.5983 - accuracy: 0.7857 - val_loss: 4.8240 - val_accuracy: 0.2800\n",
            "Epoch 206/250\n",
            "24/24 [==============================] - 30s 1s/step - loss: 0.7546 - accuracy: 0.7771 - val_loss: 4.4538 - val_accuracy: 0.2733\n",
            "Epoch 207/250\n",
            "24/24 [==============================] - 30s 1s/step - loss: 0.7334 - accuracy: 0.7629 - val_loss: 4.3058 - val_accuracy: 0.3067\n",
            "Epoch 208/250\n",
            "24/24 [==============================] - 29s 1s/step - loss: 0.5769 - accuracy: 0.8343 - val_loss: 4.5395 - val_accuracy: 0.2933\n",
            "Epoch 209/250\n",
            "24/24 [==============================] - 29s 1s/step - loss: 0.6426 - accuracy: 0.8229 - val_loss: 4.4144 - val_accuracy: 0.3200\n",
            "Epoch 210/250\n",
            "24/24 [==============================] - 29s 1s/step - loss: 0.5463 - accuracy: 0.8171 - val_loss: 4.2850 - val_accuracy: 0.3000\n",
            "Epoch 211/250\n",
            "24/24 [==============================] - 30s 1s/step - loss: 0.5102 - accuracy: 0.8543 - val_loss: 4.7571 - val_accuracy: 0.2533\n",
            "Epoch 212/250\n",
            "24/24 [==============================] - 30s 1s/step - loss: 0.6958 - accuracy: 0.7886 - val_loss: 4.1962 - val_accuracy: 0.2867\n",
            "Epoch 213/250\n",
            "24/24 [==============================] - 30s 1s/step - loss: 0.5471 - accuracy: 0.8143 - val_loss: 4.6898 - val_accuracy: 0.2933\n",
            "Epoch 214/250\n",
            "24/24 [==============================] - 30s 1s/step - loss: 0.4356 - accuracy: 0.8571 - val_loss: 5.0431 - val_accuracy: 0.2467\n",
            "Epoch 215/250\n",
            "24/24 [==============================] - 29s 1s/step - loss: 0.5013 - accuracy: 0.8371 - val_loss: 4.4550 - val_accuracy: 0.2467\n",
            "Epoch 216/250\n",
            "24/24 [==============================] - 30s 1s/step - loss: 0.5355 - accuracy: 0.8429 - val_loss: 4.4255 - val_accuracy: 0.2867\n",
            "Epoch 217/250\n",
            "24/24 [==============================] - 30s 1s/step - loss: 0.6191 - accuracy: 0.8200 - val_loss: 4.8369 - val_accuracy: 0.2667\n",
            "Epoch 218/250\n",
            "24/24 [==============================] - 30s 1s/step - loss: 0.6520 - accuracy: 0.8114 - val_loss: 4.8760 - val_accuracy: 0.2733\n",
            "Epoch 219/250\n",
            "24/24 [==============================] - 28s 1s/step - loss: 0.6050 - accuracy: 0.8086 - val_loss: 4.9293 - val_accuracy: 0.2533\n",
            "Epoch 220/250\n",
            "24/24 [==============================] - 29s 1s/step - loss: 0.5346 - accuracy: 0.8229 - val_loss: 4.7598 - val_accuracy: 0.2867\n",
            "Epoch 221/250\n",
            "24/24 [==============================] - 29s 1s/step - loss: 0.5130 - accuracy: 0.8371 - val_loss: 4.5023 - val_accuracy: 0.3000\n",
            "Epoch 222/250\n",
            "24/24 [==============================] - 29s 1s/step - loss: 0.5466 - accuracy: 0.8457 - val_loss: 4.5893 - val_accuracy: 0.3000\n",
            "Epoch 223/250\n",
            "24/24 [==============================] - 30s 1s/step - loss: 0.4731 - accuracy: 0.8314 - val_loss: 4.4638 - val_accuracy: 0.3267\n",
            "Epoch 224/250\n",
            "24/24 [==============================] - 30s 1s/step - loss: 0.6054 - accuracy: 0.7914 - val_loss: 4.3023 - val_accuracy: 0.2800\n",
            "Epoch 225/250\n",
            "24/24 [==============================] - 31s 1s/step - loss: 0.6107 - accuracy: 0.7829 - val_loss: 4.4430 - val_accuracy: 0.2800\n",
            "Epoch 226/250\n",
            "24/24 [==============================] - 31s 1s/step - loss: 0.5246 - accuracy: 0.8314 - val_loss: 4.5122 - val_accuracy: 0.2467\n",
            "Epoch 227/250\n",
            "24/24 [==============================] - 31s 1s/step - loss: 0.5909 - accuracy: 0.8114 - val_loss: 4.3472 - val_accuracy: 0.2867\n",
            "Epoch 228/250\n",
            "24/24 [==============================] - 30s 1s/step - loss: 0.5528 - accuracy: 0.7971 - val_loss: 4.6516 - val_accuracy: 0.2867\n",
            "Epoch 229/250\n",
            "24/24 [==============================] - 30s 1s/step - loss: 0.5156 - accuracy: 0.8429 - val_loss: 4.5138 - val_accuracy: 0.3000\n",
            "Epoch 230/250\n",
            "24/24 [==============================] - 32s 1s/step - loss: 0.5142 - accuracy: 0.8286 - val_loss: 4.9354 - val_accuracy: 0.2867\n",
            "Epoch 231/250\n",
            "24/24 [==============================] - 30s 1s/step - loss: 0.6077 - accuracy: 0.8257 - val_loss: 5.0339 - val_accuracy: 0.2933\n",
            "Epoch 232/250\n",
            "24/24 [==============================] - 30s 1s/step - loss: 0.6152 - accuracy: 0.8114 - val_loss: 4.6060 - val_accuracy: 0.2933\n",
            "Epoch 233/250\n",
            "24/24 [==============================] - 31s 1s/step - loss: 0.6239 - accuracy: 0.7857 - val_loss: 4.5229 - val_accuracy: 0.3000\n",
            "Epoch 234/250\n",
            "24/24 [==============================] - 30s 1s/step - loss: 0.6279 - accuracy: 0.8086 - val_loss: 4.0143 - val_accuracy: 0.3200\n",
            "Epoch 235/250\n",
            "24/24 [==============================] - 31s 1s/step - loss: 0.6389 - accuracy: 0.8200 - val_loss: 4.3866 - val_accuracy: 0.2667\n",
            "Epoch 236/250\n",
            "24/24 [==============================] - 31s 1s/step - loss: 0.5327 - accuracy: 0.8114 - val_loss: 4.7505 - val_accuracy: 0.2733\n",
            "Epoch 237/250\n",
            "24/24 [==============================] - 30s 1s/step - loss: 0.6283 - accuracy: 0.7886 - val_loss: 4.3457 - val_accuracy: 0.3000\n",
            "Epoch 238/250\n",
            "24/24 [==============================] - 30s 1s/step - loss: 0.5041 - accuracy: 0.8543 - val_loss: 4.2653 - val_accuracy: 0.3000\n",
            "Epoch 239/250\n",
            "24/24 [==============================] - 30s 1s/step - loss: 0.4314 - accuracy: 0.8514 - val_loss: 5.0973 - val_accuracy: 0.3067\n",
            "Epoch 240/250\n",
            "24/24 [==============================] - 30s 1s/step - loss: 0.5008 - accuracy: 0.8629 - val_loss: 4.8030 - val_accuracy: 0.2867\n",
            "Epoch 241/250\n",
            "24/24 [==============================] - 31s 1s/step - loss: 0.5440 - accuracy: 0.8371 - val_loss: 4.7511 - val_accuracy: 0.2800\n",
            "Epoch 242/250\n",
            "24/24 [==============================] - 30s 1s/step - loss: 0.4770 - accuracy: 0.8429 - val_loss: 4.5560 - val_accuracy: 0.3067\n",
            "Epoch 243/250\n",
            "24/24 [==============================] - 30s 1s/step - loss: 0.5638 - accuracy: 0.7857 - val_loss: 5.0404 - val_accuracy: 0.2800\n",
            "Epoch 244/250\n",
            "24/24 [==============================] - 29s 1s/step - loss: 0.4655 - accuracy: 0.8257 - val_loss: 4.6959 - val_accuracy: 0.3200\n",
            "Epoch 245/250\n",
            "24/24 [==============================] - 30s 1s/step - loss: 0.4009 - accuracy: 0.8686 - val_loss: 5.1888 - val_accuracy: 0.3067\n",
            "Epoch 246/250\n",
            "24/24 [==============================] - 30s 1s/step - loss: 0.4913 - accuracy: 0.8343 - val_loss: 4.8406 - val_accuracy: 0.2800\n",
            "Epoch 247/250\n",
            "24/24 [==============================] - 30s 1s/step - loss: 0.5583 - accuracy: 0.8200 - val_loss: 4.8270 - val_accuracy: 0.2733\n",
            "Epoch 248/250\n",
            "24/24 [==============================] - 32s 1s/step - loss: 0.3997 - accuracy: 0.8886 - val_loss: 5.1056 - val_accuracy: 0.2667\n",
            "Epoch 249/250\n",
            "24/24 [==============================] - 30s 1s/step - loss: 0.4420 - accuracy: 0.8429 - val_loss: 5.1059 - val_accuracy: 0.2867\n",
            "Epoch 250/250\n",
            "24/24 [==============================] - 30s 1s/step - loss: 0.4465 - accuracy: 0.8686 - val_loss: 5.3015 - val_accuracy: 0.2400\n"
          ],
          "name": "stdout"
        }
      ]
    },
    {
      "cell_type": "code",
      "metadata": {
        "id": "bpg7jbeVwXZH"
      },
      "source": [
        "  model.save(\"face_detection.h5\")"
      ],
      "execution_count": null,
      "outputs": []
    },
    {
      "cell_type": "code",
      "metadata": {
        "id": "Qqk8QgEatVQO",
        "colab": {
          "base_uri": "https://localhost:8080/",
          "height": 295
        },
        "outputId": "6b7b7cd1-2b0c-4c6e-e18c-0d8a95926ed9"
      },
      "source": [
        "import matplotlib.pyplot as plt\n",
        "plt.plot(history.history['accuracy'])\n",
        "plt.plot(history.history['val_accuracy'])\n",
        "plt.title('model accuracy')\n",
        "plt.ylabel('accuracy')\n",
        "plt.xlabel('epoch')\n",
        "plt.legend(['train', 'test'], loc='upper left')\n",
        "plt.show()"
      ],
      "execution_count": null,
      "outputs": [
        {
          "output_type": "display_data",
          "data": {
            "image/png": "[encoded data removed]",
            "text/plain": [
              "<Figure size 432x288 with 1 Axes>"
            ]
          },
          "metadata": {
            "tags": [],
            "needs_background": "light"
          }
        }
      ]
    },
    {
      "cell_type": "code",
      "metadata": {
        "colab": {
          "base_uri": "https://localhost:8080/",
          "height": 295
        },
        "id": "c0JOEF5qI0Wl",
        "outputId": "0517a167-ba9b-4f34-c08a-1fe5dd2ce163"
      },
      "source": [
        "plt.plot(history.history['loss'])\n",
        "plt.plot(history.history['val_loss'])\n",
        "plt.title('model loss')\n",
        "plt.ylabel('loss')\n",
        "plt.xlabel('epoch')\n",
        "plt.legend(['train', 'test'], loc='upper right')\n",
        "plt.show()"
      ],
      "execution_count": null,
      "outputs": [
        {
          "output_type": "display_data",
          "data": {
            "image/png": "[encoded data removed]",
            "text/plain": [
              "<Figure size 432x288 with 1 Axes>"
            ]
          },
          "metadata": {
            "tags": [],
            "needs_background": "light"
          }
        }
      ]
    },
    {
      "cell_type": "code",
      "metadata": {
        "colab": {
          "base_uri": "https://localhost:8080/"
        },
        "id": "8VAbozq7I49V",
        "outputId": "a2a626be-fcb9-458c-9815-17957e9b1403"
      },
      "source": [
        "model.evaluate(train_generator)"
      ],
      "execution_count": null,
      "outputs": [
        {
          "output_type": "stream",
          "text": [
            "24/24 [==============================] - 21s 888ms/step - loss: 0.6331 - accuracy: 0.8057\n"
          ],
          "name": "stdout"
        },
        {
          "output_type": "execute_result",
          "data": {
            "text/plain": [
              "[0.6331229209899902, 0.8057143092155457]"
            ]
          },
          "metadata": {
            "tags": []
          },
          "execution_count": 119
        }
      ]
    },
    {
      "cell_type": "code",
      "metadata": {
        "colab": {
          "base_uri": "https://localhost:8080/"
        },
        "id": "bEygLNaMI8rT",
        "outputId": "75cde662-8340-4b83-acd4-bdb5c074ffd5"
      },
      "source": [
        "model.evaluate(validation_generator)"
      ],
      "execution_count": null,
      "outputs": [
        {
          "output_type": "stream",
          "text": [
            "10/10 [==============================] - 7s 726ms/step - loss: 5.3015 - accuracy: 0.2400\n"
          ],
          "name": "stdout"
        },
        {
          "output_type": "execute_result",
          "data": {
            "text/plain": [
              "[5.30146598815918, 0.23999999463558197]"
            ]
          },
          "metadata": {
            "tags": []
          },
          "execution_count": 120
        }
      ]
    },
    {
      "cell_type": "code",
      "metadata": {
        "id": "4DYVC6P1JJEm"
      },
      "source": [
        "from sklearn.metrics import classification_report,confusion_matrix\n",
        "pred = model.predict(validation_generator)"
      ],
      "execution_count": null,
      "outputs": []
    },
    {
      "cell_type": "code",
      "metadata": {
        "id": "umbZ1su0JMTJ"
      },
      "source": [
        "import numpy as np\n",
        "test_pred = np.argmax(pred, axis=-1)"
      ],
      "execution_count": null,
      "outputs": []
    },
    {
      "cell_type": "code",
      "metadata": {
        "colab": {
          "base_uri": "https://localhost:8080/"
        },
        "id": "9aQ96WSgJUn5",
        "outputId": "b211d6ea-63a3-4b99-efa2-83ba45fedadd"
      },
      "source": [
        "result = confusion_matrix(validation_generator.classes, test_pred)\n",
        "print(\"Confusion Matrix: \")\n",
        "print(result)"
      ],
      "execution_count": null,
      "outputs": [
        {
          "output_type": "stream",
          "text": [
            "Confusion Matrix: \n",
            "[[0 0 0 0 0 2 0 0 1 0 0 0 1 1 0 0 0 0 2 0]\n",
            " [1 0 0 2 0 0 0 0 0 0 1 1 2 1 0 0 0 0 2 0]\n",
            " [1 0 0 2 0 1 1 0 0 1 0 0 0 0 0 0 1 1 1 0]\n",
            " [0 0 0 1 0 1 1 0 0 0 1 0 0 1 0 0 0 0 1 1]\n",
            " [0 0 0 1 2 1 0 0 2 0 0 0 1 0 1 0 1 0 0 0]\n",
            " [1 0 0 0 0 0 0 0 2 0 0 0 0 0 0 0 0 0 1 1]\n",
            " [0 0 0 1 1 2 1 0 1 0 0 1 0 0 0 0 0 0 1 0]\n",
            " [1 0 0 0 0 1 0 1 0 0 1 0 1 1 0 0 0 0 1 0]\n",
            " [0 0 0 1 0 1 0 0 1 0 0 0 0 0 0 0 0 0 0 0]\n",
            " [0 0 0 0 0 1 1 0 3 0 0 0 0 0 2 1 0 0 0 1]\n",
            " [2 0 1 1 0 0 1 0 0 0 0 0 1 2 0 0 1 0 0 1]\n",
            " [0 0 0 0 0 0 1 0 0 0 0 0 0 1 2 0 0 0 0 0]\n",
            " [0 1 1 0 0 0 0 0 0 0 0 0 1 1 0 0 1 0 0 0]\n",
            " [2 0 0 1 0 0 1 0 0 1 0 0 0 1 1 0 0 0 4 1]\n",
            " [0 1 1 0 0 1 0 1 1 0 0 0 0 0 1 0 0 0 0 0]\n",
            " [3 0 0 1 0 0 0 0 1 0 1 0 1 1 0 0 1 0 2 0]\n",
            " [2 0 0 1 0 0 1 0 0 0 1 0 0 0 0 0 1 0 1 0]\n",
            " [1 1 0 1 0 0 0 0 0 0 0 0 1 0 1 1 1 0 0 0]\n",
            " [1 0 0 0 1 1 1 0 0 0 0 0 0 0 1 1 0 0 1 0]\n",
            " [2 0 0 0 0 0 1 0 1 0 0 0 1 0 0 0 1 0 0 1]]\n"
          ],
          "name": "stdout"
        }
      ]
    },
    {
      "cell_type": "code",
      "metadata": {
        "colab": {
          "base_uri": "https://localhost:8080/"
        },
        "id": "sWBvHCR-JVhS",
        "outputId": "c8da5060-97a1-4cbf-b45b-2005422fa69f"
      },
      "source": [
        "print(classification_report(validation_generator.classes, test_pred))"
      ],
      "execution_count": null,
      "outputs": [
        {
          "output_type": "stream",
          "text": [
            "              precision    recall  f1-score   support\n",
            "\n",
            "           0       0.00      0.00      0.00         7\n",
            "           1       0.00      0.00      0.00        10\n",
            "           2       0.00      0.00      0.00         9\n",
            "           3       0.08      0.14      0.10         7\n",
            "           4       0.50      0.22      0.31         9\n",
            "           5       0.00      0.00      0.00         5\n",
            "           6       0.10      0.12      0.11         8\n",
            "           7       0.50      0.14      0.22         7\n",
            "           8       0.08      0.33      0.12         3\n",
            "           9       0.00      0.00      0.00         9\n",
            "          10       0.00      0.00      0.00        10\n",
            "          11       0.00      0.00      0.00         4\n",
            "          12       0.10      0.20      0.13         5\n",
            "          13       0.10      0.08      0.09        12\n",
            "          14       0.11      0.17      0.13         6\n",
            "          15       0.00      0.00      0.00        11\n",
            "          16       0.12      0.14      0.13         7\n",
            "          17       0.00      0.00      0.00         7\n",
            "          18       0.06      0.14      0.08         7\n",
            "          19       0.17      0.14      0.15         7\n",
            "\n",
            "    accuracy                           0.08       150\n",
            "   macro avg       0.10      0.09      0.08       150\n",
            "weighted avg       0.10      0.08      0.08       150\n",
            "\n"
          ],
          "name": "stdout"
        }
      ]
    },
    {
      "cell_type": "code",
      "metadata": {
        "id": "hSM9AeuyJc4S"
      },
      "source": [
        ""
      ],
      "execution_count": null,
      "outputs": []
    }
  ]
}