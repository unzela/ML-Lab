{
  "nbformat": 4,
  "nbformat_minor": 0,
  "metadata": {
    "kernelspec": {
      "name": "python3",
      "display_name": "Python 3",
      "language": "python"
    },
    "language_info": {
      "name": "python",
      "version": "3.7.6",
      "mimetype": "text/x-python",
      "codemirror_mode": {
        "name": "ipython",
        "version": 3
      },
      "pygments_lexer": "ipython3",
      "nbconvert_exporter": "python",
      "file_extension": ".py"
    },
    "colab": {
      "name": "nn-layers-for-diabetes-data.ipynb",
      "provenance": []
    }
  },
  "cells": [
    {
      "cell_type": "code",
      "metadata": {
        "_uuid": "8f2839f25d086af736a60e9eeb907d3b93b6e0e5",
        "_cell_guid": "b1076dfc-b9ad-4769-8c92-a6c4dae69d19",
        "trusted": true,
        "id": "jjaNfbD1N3lj"
      },
      "source": [
        "import tensorflow as tf\n",
        "from tensorflow.keras import layers, models\n",
        "import pandas as pd\n",
        "import numpy as np"
      ],
      "execution_count": null,
      "outputs": []
    },
    {
      "cell_type": "code",
      "metadata": {
        "id": "CutzDnu6T3g_",
        "colab": {
          "base_uri": "https://localhost:8080/"
        },
        "outputId": "9556985c-7535-4157-c015-452b5958be80"
      },
      "source": [
        "from google.colab import drive\n",
        "drive.mount('/content/drive/')"
      ],
      "execution_count": null,
      "outputs": [
        {
          "output_type": "stream",
          "text": [
            "Mounted at /content/drive/\n"
          ],
          "name": "stdout"
        }
      ]
    },
    {
      "cell_type": "code",
      "metadata": {
        "_uuid": "d629ff2d2480ee46fbb7e2d37f6b5fab8052498a",
        "_cell_guid": "79c7e3d0-c299-4dcb-8224-4455121ee9b0",
        "trusted": true,
        "id": "uLQUKTR1N3ln"
      },
      "source": [
        "df = pd.read_csv('/content/drive/My Drive/Colab Notebooks/diabetes.csv')"
      ],
      "execution_count": null,
      "outputs": []
    },
    {
      "cell_type": "code",
      "metadata": {
        "trusted": true,
        "id": "noN_8rM1N3lp"
      },
      "source": [
        "x=df.drop(\"Outcome\",axis=1)\n",
        "x\n",
        "from sklearn.preprocessing import scale\n",
        "x=scale(x)"
      ],
      "execution_count": null,
      "outputs": []
    },
    {
      "cell_type": "code",
      "metadata": {
        "trusted": true,
        "id": "k-9bz6a2N3lr"
      },
      "source": [
        "y=df.Outcome.values"
      ],
      "execution_count": null,
      "outputs": []
    },
    {
      "cell_type": "code",
      "metadata": {
        "trusted": true,
        "id": "zyxLJXd-N3lu"
      },
      "source": [
        "from sklearn.model_selection import train_test_split\n",
        "xtrain,xtest,ytrain,ytest=train_test_split(x,y,test_size=0.2)"
      ],
      "execution_count": null,
      "outputs": []
    },
    {
      "cell_type": "code",
      "metadata": {
        "trusted": true,
        "id": "cG1wzuLlN3lw"
      },
      "source": [
        "model = tf.keras.Sequential([\n",
        "  tf.keras.layers.Dense(12, activation=\"relu\", input_shape=(8,)),  \n",
        "  tf.keras.layers.Dense(8, activation=\"relu\"),\n",
        "  tf.keras.layers.Dense(1,activation=\"sigmoid\")\n",
        "])"
      ],
      "execution_count": null,
      "outputs": []
    },
    {
      "cell_type": "code",
      "metadata": {
        "trusted": true,
        "id": "PTDGmJEcN3ly"
      },
      "source": [
        "from tensorflow.keras.optimizers import Adam\n",
        "model.compile(optimizer = Adam(lr=0.001), \n",
        "              loss = 'binary_crossentropy', \n",
        "              metrics=['accuracy'])"
      ],
      "execution_count": null,
      "outputs": []
    },
    {
      "cell_type": "code",
      "metadata": {
        "trusted": true,
        "id": "dis_wYNHN3l1",
        "colab": {
          "base_uri": "https://localhost:8080/"
        },
        "outputId": "1eeb8b09-1b4a-40c1-9ab1-d873be76b3e5"
      },
      "source": [
        "history = model.fit(xtrain, \n",
        "                    ytrain,\n",
        "                   epochs =100,batch_size=40)"
      ],
      "execution_count": null,
      "outputs": [
        {
          "output_type": "stream",
          "text": [
            "Epoch 1/100\n",
            "16/16 [==============================] - 0s 1ms/step - loss: 0.7901 - accuracy: 0.3632\n",
            "Epoch 2/100\n",
            "16/16 [==============================] - 0s 1ms/step - loss: 0.7448 - accuracy: 0.3893\n",
            "Epoch 3/100\n",
            "16/16 [==============================] - 0s 1ms/step - loss: 0.7127 - accuracy: 0.4381\n",
            "Epoch 4/100\n",
            "16/16 [==============================] - 0s 1ms/step - loss: 0.6880 - accuracy: 0.5147\n",
            "Epoch 5/100\n",
            "16/16 [==============================] - 0s 1ms/step - loss: 0.6687 - accuracy: 0.5863\n",
            "Epoch 6/100\n",
            "16/16 [==============================] - 0s 1ms/step - loss: 0.6504 - accuracy: 0.6580\n",
            "Epoch 7/100\n",
            "16/16 [==============================] - 0s 1ms/step - loss: 0.6333 - accuracy: 0.7248\n",
            "Epoch 8/100\n",
            "16/16 [==============================] - 0s 1ms/step - loss: 0.6144 - accuracy: 0.7443\n",
            "Epoch 9/100\n",
            "16/16 [==============================] - 0s 1ms/step - loss: 0.5945 - accuracy: 0.7606\n",
            "Epoch 10/100\n",
            "16/16 [==============================] - 0s 1ms/step - loss: 0.5753 - accuracy: 0.7752\n",
            "Epoch 11/100\n",
            "16/16 [==============================] - 0s 1ms/step - loss: 0.5566 - accuracy: 0.7769\n",
            "Epoch 12/100\n",
            "16/16 [==============================] - 0s 1ms/step - loss: 0.5392 - accuracy: 0.7752\n",
            "Epoch 13/100\n",
            "16/16 [==============================] - 0s 1ms/step - loss: 0.5236 - accuracy: 0.7752\n",
            "Epoch 14/100\n",
            "16/16 [==============================] - 0s 1ms/step - loss: 0.5099 - accuracy: 0.7801\n",
            "Epoch 15/100\n",
            "16/16 [==============================] - 0s 1ms/step - loss: 0.4983 - accuracy: 0.7785\n",
            "Epoch 16/100\n",
            "16/16 [==============================] - 0s 1ms/step - loss: 0.4884 - accuracy: 0.7801\n",
            "Epoch 17/100\n",
            "16/16 [==============================] - 0s 1ms/step - loss: 0.4813 - accuracy: 0.7818\n",
            "Epoch 18/100\n",
            "16/16 [==============================] - 0s 1ms/step - loss: 0.4752 - accuracy: 0.7801\n",
            "Epoch 19/100\n",
            "16/16 [==============================] - 0s 1ms/step - loss: 0.4703 - accuracy: 0.7818\n",
            "Epoch 20/100\n",
            "16/16 [==============================] - 0s 1ms/step - loss: 0.4664 - accuracy: 0.7850\n",
            "Epoch 21/100\n",
            "16/16 [==============================] - 0s 1ms/step - loss: 0.4625 - accuracy: 0.7899\n",
            "Epoch 22/100\n",
            "16/16 [==============================] - 0s 1ms/step - loss: 0.4594 - accuracy: 0.7964\n",
            "Epoch 23/100\n",
            "16/16 [==============================] - 0s 1ms/step - loss: 0.4566 - accuracy: 0.7948\n",
            "Epoch 24/100\n",
            "16/16 [==============================] - 0s 1ms/step - loss: 0.4540 - accuracy: 0.7964\n",
            "Epoch 25/100\n",
            "16/16 [==============================] - 0s 1ms/step - loss: 0.4516 - accuracy: 0.7980\n",
            "Epoch 26/100\n",
            "16/16 [==============================] - 0s 1ms/step - loss: 0.4499 - accuracy: 0.7980\n",
            "Epoch 27/100\n",
            "16/16 [==============================] - 0s 1ms/step - loss: 0.4474 - accuracy: 0.7980\n",
            "Epoch 28/100\n",
            "16/16 [==============================] - 0s 1ms/step - loss: 0.4461 - accuracy: 0.7997\n",
            "Epoch 29/100\n",
            "16/16 [==============================] - 0s 1ms/step - loss: 0.4440 - accuracy: 0.8013\n",
            "Epoch 30/100\n",
            "16/16 [==============================] - 0s 2ms/step - loss: 0.4427 - accuracy: 0.8046\n",
            "Epoch 31/100\n",
            "16/16 [==============================] - 0s 1ms/step - loss: 0.4412 - accuracy: 0.8046\n",
            "Epoch 32/100\n",
            "16/16 [==============================] - 0s 1ms/step - loss: 0.4399 - accuracy: 0.8078\n",
            "Epoch 33/100\n",
            "16/16 [==============================] - 0s 1ms/step - loss: 0.4385 - accuracy: 0.8046\n",
            "Epoch 34/100\n",
            "16/16 [==============================] - 0s 1ms/step - loss: 0.4375 - accuracy: 0.8062\n",
            "Epoch 35/100\n",
            "16/16 [==============================] - 0s 1ms/step - loss: 0.4363 - accuracy: 0.8078\n",
            "Epoch 36/100\n",
            "16/16 [==============================] - 0s 1ms/step - loss: 0.4353 - accuracy: 0.8111\n",
            "Epoch 37/100\n",
            "16/16 [==============================] - 0s 1ms/step - loss: 0.4341 - accuracy: 0.8111\n",
            "Epoch 38/100\n",
            "16/16 [==============================] - 0s 1ms/step - loss: 0.4329 - accuracy: 0.8160\n",
            "Epoch 39/100\n",
            "16/16 [==============================] - 0s 1ms/step - loss: 0.4318 - accuracy: 0.8160\n",
            "Epoch 40/100\n",
            "16/16 [==============================] - 0s 1ms/step - loss: 0.4311 - accuracy: 0.8143\n",
            "Epoch 41/100\n",
            "16/16 [==============================] - 0s 2ms/step - loss: 0.4303 - accuracy: 0.8176\n",
            "Epoch 42/100\n",
            "16/16 [==============================] - 0s 2ms/step - loss: 0.4295 - accuracy: 0.8143\n",
            "Epoch 43/100\n",
            "16/16 [==============================] - 0s 1ms/step - loss: 0.4284 - accuracy: 0.8143\n",
            "Epoch 44/100\n",
            "16/16 [==============================] - 0s 1ms/step - loss: 0.4279 - accuracy: 0.8111\n",
            "Epoch 45/100\n",
            "16/16 [==============================] - 0s 1ms/step - loss: 0.4272 - accuracy: 0.8143\n",
            "Epoch 46/100\n",
            "16/16 [==============================] - 0s 1ms/step - loss: 0.4258 - accuracy: 0.8127\n",
            "Epoch 47/100\n",
            "16/16 [==============================] - 0s 1ms/step - loss: 0.4253 - accuracy: 0.8127\n",
            "Epoch 48/100\n",
            "16/16 [==============================] - 0s 1ms/step - loss: 0.4245 - accuracy: 0.8127\n",
            "Epoch 49/100\n",
            "16/16 [==============================] - 0s 1ms/step - loss: 0.4241 - accuracy: 0.8111\n",
            "Epoch 50/100\n",
            "16/16 [==============================] - 0s 1ms/step - loss: 0.4235 - accuracy: 0.8111\n",
            "Epoch 51/100\n",
            "16/16 [==============================] - 0s 1ms/step - loss: 0.4223 - accuracy: 0.8078\n",
            "Epoch 52/100\n",
            "16/16 [==============================] - 0s 1ms/step - loss: 0.4219 - accuracy: 0.8094\n",
            "Epoch 53/100\n",
            "16/16 [==============================] - 0s 1ms/step - loss: 0.4213 - accuracy: 0.8094\n",
            "Epoch 54/100\n",
            "16/16 [==============================] - 0s 1ms/step - loss: 0.4208 - accuracy: 0.8094\n",
            "Epoch 55/100\n",
            "16/16 [==============================] - 0s 1ms/step - loss: 0.4197 - accuracy: 0.8111\n",
            "Epoch 56/100\n",
            "16/16 [==============================] - 0s 1ms/step - loss: 0.4192 - accuracy: 0.8062\n",
            "Epoch 57/100\n",
            "16/16 [==============================] - 0s 1ms/step - loss: 0.4182 - accuracy: 0.8046\n",
            "Epoch 58/100\n",
            "16/16 [==============================] - 0s 1ms/step - loss: 0.4180 - accuracy: 0.8062\n",
            "Epoch 59/100\n",
            "16/16 [==============================] - 0s 1ms/step - loss: 0.4172 - accuracy: 0.8062\n",
            "Epoch 60/100\n",
            "16/16 [==============================] - 0s 1ms/step - loss: 0.4166 - accuracy: 0.8062\n",
            "Epoch 61/100\n",
            "16/16 [==============================] - 0s 1ms/step - loss: 0.4160 - accuracy: 0.8046\n",
            "Epoch 62/100\n",
            "16/16 [==============================] - 0s 1ms/step - loss: 0.4155 - accuracy: 0.8062\n",
            "Epoch 63/100\n",
            "16/16 [==============================] - 0s 1ms/step - loss: 0.4144 - accuracy: 0.8062\n",
            "Epoch 64/100\n",
            "16/16 [==============================] - 0s 1ms/step - loss: 0.4141 - accuracy: 0.8078\n",
            "Epoch 65/100\n",
            "16/16 [==============================] - 0s 1ms/step - loss: 0.4137 - accuracy: 0.8078\n",
            "Epoch 66/100\n",
            "16/16 [==============================] - 0s 1ms/step - loss: 0.4127 - accuracy: 0.8078\n",
            "Epoch 67/100\n",
            "16/16 [==============================] - 0s 1ms/step - loss: 0.4122 - accuracy: 0.8094\n",
            "Epoch 68/100\n",
            "16/16 [==============================] - 0s 1ms/step - loss: 0.4119 - accuracy: 0.8078\n",
            "Epoch 69/100\n",
            "16/16 [==============================] - 0s 2ms/step - loss: 0.4111 - accuracy: 0.8094\n",
            "Epoch 70/100\n",
            "16/16 [==============================] - 0s 1ms/step - loss: 0.4110 - accuracy: 0.8111\n",
            "Epoch 71/100\n",
            "16/16 [==============================] - 0s 1ms/step - loss: 0.4102 - accuracy: 0.8111\n",
            "Epoch 72/100\n",
            "16/16 [==============================] - 0s 1ms/step - loss: 0.4096 - accuracy: 0.8078\n",
            "Epoch 73/100\n",
            "16/16 [==============================] - 0s 1ms/step - loss: 0.4092 - accuracy: 0.8094\n",
            "Epoch 74/100\n",
            "16/16 [==============================] - 0s 1ms/step - loss: 0.4086 - accuracy: 0.8111\n",
            "Epoch 75/100\n",
            "16/16 [==============================] - 0s 1ms/step - loss: 0.4079 - accuracy: 0.8062\n",
            "Epoch 76/100\n",
            "16/16 [==============================] - 0s 1ms/step - loss: 0.4074 - accuracy: 0.8111\n",
            "Epoch 77/100\n",
            "16/16 [==============================] - 0s 1ms/step - loss: 0.4067 - accuracy: 0.8143\n",
            "Epoch 78/100\n",
            "16/16 [==============================] - 0s 1ms/step - loss: 0.4065 - accuracy: 0.8078\n",
            "Epoch 79/100\n",
            "16/16 [==============================] - 0s 1ms/step - loss: 0.4056 - accuracy: 0.8094\n",
            "Epoch 80/100\n",
            "16/16 [==============================] - 0s 1ms/step - loss: 0.4053 - accuracy: 0.8127\n",
            "Epoch 81/100\n",
            "16/16 [==============================] - 0s 1ms/step - loss: 0.4049 - accuracy: 0.8127\n",
            "Epoch 82/100\n",
            "16/16 [==============================] - 0s 1ms/step - loss: 0.4042 - accuracy: 0.8094\n",
            "Epoch 83/100\n",
            "16/16 [==============================] - 0s 1ms/step - loss: 0.4037 - accuracy: 0.8094\n",
            "Epoch 84/100\n",
            "16/16 [==============================] - 0s 1ms/step - loss: 0.4037 - accuracy: 0.8094\n",
            "Epoch 85/100\n",
            "16/16 [==============================] - 0s 1ms/step - loss: 0.4030 - accuracy: 0.8094\n",
            "Epoch 86/100\n",
            "16/16 [==============================] - 0s 1ms/step - loss: 0.4026 - accuracy: 0.8127\n",
            "Epoch 87/100\n",
            "16/16 [==============================] - 0s 1ms/step - loss: 0.4021 - accuracy: 0.8111\n",
            "Epoch 88/100\n",
            "16/16 [==============================] - 0s 1ms/step - loss: 0.4015 - accuracy: 0.8127\n",
            "Epoch 89/100\n",
            "16/16 [==============================] - 0s 1ms/step - loss: 0.4008 - accuracy: 0.8127\n",
            "Epoch 90/100\n",
            "16/16 [==============================] - 0s 1ms/step - loss: 0.4005 - accuracy: 0.8094\n",
            "Epoch 91/100\n",
            "16/16 [==============================] - 0s 1ms/step - loss: 0.4003 - accuracy: 0.8127\n",
            "Epoch 92/100\n",
            "16/16 [==============================] - 0s 1ms/step - loss: 0.3998 - accuracy: 0.8111\n",
            "Epoch 93/100\n",
            "16/16 [==============================] - 0s 1ms/step - loss: 0.3991 - accuracy: 0.8094\n",
            "Epoch 94/100\n",
            "16/16 [==============================] - 0s 1ms/step - loss: 0.3983 - accuracy: 0.8111\n",
            "Epoch 95/100\n",
            "16/16 [==============================] - 0s 1ms/step - loss: 0.3982 - accuracy: 0.8127\n",
            "Epoch 96/100\n",
            "16/16 [==============================] - 0s 1ms/step - loss: 0.3976 - accuracy: 0.8111\n",
            "Epoch 97/100\n",
            "16/16 [==============================] - 0s 1ms/step - loss: 0.3968 - accuracy: 0.8111\n",
            "Epoch 98/100\n",
            "16/16 [==============================] - 0s 1ms/step - loss: 0.3971 - accuracy: 0.8094\n",
            "Epoch 99/100\n",
            "16/16 [==============================] - 0s 1ms/step - loss: 0.3960 - accuracy: 0.8111\n",
            "Epoch 100/100\n",
            "16/16 [==============================] - 0s 1ms/step - loss: 0.3962 - accuracy: 0.8127\n"
          ],
          "name": "stdout"
        }
      ]
    },
    {
      "cell_type": "code",
      "metadata": {
        "trusted": true,
        "id": "GlFwwxImN3l4",
        "colab": {
          "base_uri": "https://localhost:8080/"
        },
        "outputId": "6422a39a-cb79-4c18-baf2-f282dd6636f1"
      },
      "source": [
        "acc=model.evaluate(xtest,ytest)\n",
        "print(acc)"
      ],
      "execution_count": null,
      "outputs": [
        {
          "output_type": "stream",
          "text": [
            "5/5 [==============================] - 0s 2ms/step - loss: 0.5376 - accuracy: 0.7273\n",
            "[0.5375568866729736, 0.7272727489471436]\n"
          ],
          "name": "stdout"
        }
      ]
    },
    {
      "cell_type": "code",
      "metadata": {
        "trusted": true,
        "id": "6Sfg1SjCN3l6"
      },
      "source": [
        "#model.save(\"../working/\")"
      ],
      "execution_count": null,
      "outputs": []
    },
    {
      "cell_type": "code",
      "metadata": {
        "trusted": true,
        "id": "bgHq42j9N3l8",
        "colab": {
          "base_uri": "https://localhost:8080/",
          "height": 545
        },
        "outputId": "b19090a2-8bdd-41f3-a8c8-fe86336e582a"
      },
      "source": [
        "import matplotlib.pyplot as plt\n",
        "acc = history.history['accuracy']\n",
        "loss1 =  history.history['loss']\n",
        "\n",
        "epochs = range(len(acc))\n",
        "\n",
        "plt.plot(epochs, acc, 'r', label='Training accuracy')\n",
        "plt.title('Training  accuracy')\n",
        "plt.legend()\n",
        "plt.figure()\n",
        "\n",
        "plt.plot(epochs, loss1, 'r', label='Training Loss')\n",
        "plt.title('Training  loss')\n",
        "plt.legend()\n",
        "\n",
        "plt.show()"
      ],
      "execution_count": null,
      "outputs": [
        {
          "output_type": "display_data",
          "data": {
            "image/png": "[encoded data removed]",
            "text/plain": [
              "<Figure size 432x288 with 1 Axes>"
            ]
          },
          "metadata": {
            "tags": [],
            "needs_background": "light"
          }
        },
        {
          "output_type": "display_data",
          "data": {
            "image/png": "[encoded data removed]",
            "text/plain": [
              "<Figure size 432x288 with 1 Axes>"
            ]
          },
          "metadata": {
            "tags": [],
            "needs_background": "light"
          }
        }
      ]
    },
    {
      "cell_type": "code",
      "metadata": {
        "trusted": true,
        "id": "dvw7M8dDN3l-"
      },
      "source": [
        "#import keras\n",
        "#model1 = keras.models.load_model('../working/')\n",
        "from sklearn.model_selection import train_test_split\n",
        "xtrain,xtest,ytrain,ytest=train_test_split(x,y,test_size=0.2)"
      ],
      "execution_count": null,
      "outputs": []
    },
    {
      "cell_type": "code",
      "metadata": {
        "trusted": true,
        "id": "pBz1nfHHN3mA"
      },
      "source": [
        "model1=tf.keras.Sequential([\n",
        "      tf.keras.layers.Dense(12,activation='relu',input_shape=(8,)),\n",
        "      tf.keras.layers.Dense(8,activation='relu'),\n",
        "      tf.keras.layers.Dense(1,activation='sigmoid')\n",
        "])"
      ],
      "execution_count": null,
      "outputs": []
    },
    {
      "cell_type": "code",
      "metadata": {
        "trusted": true,
        "id": "Bx5x9HEJN3mC"
      },
      "source": [
        "from tensorflow.keras.optimizers import SGD\n",
        "model1.compile(optimizer = SGD(lr=0.001), \n",
        "              loss = 'binary_crossentropy', \n",
        "              metrics=['accuracy'])"
      ],
      "execution_count": null,
      "outputs": []
    },
    {
      "cell_type": "code",
      "metadata": {
        "trusted": true,
        "id": "9HyjgQ2DN3mF",
        "colab": {
          "base_uri": "https://localhost:8080/"
        },
        "outputId": "b334063d-7a5f-4e1d-bfdd-84717a7d3e6f"
      },
      "source": [
        "history = model1.fit(xtrain, \n",
        "                    ytrain,\n",
        "                   epochs =100,batch_size=15)\n"
      ],
      "execution_count": null,
      "outputs": [
        {
          "output_type": "stream",
          "text": [
            "Epoch 1/100\n",
            "41/41 [==============================] - 0s 942us/step - loss: 0.7011 - accuracy: 0.6140\n",
            "Epoch 2/100\n",
            "41/41 [==============================] - 0s 901us/step - loss: 0.6981 - accuracy: 0.6156\n",
            "Epoch 3/100\n",
            "41/41 [==============================] - 0s 871us/step - loss: 0.6951 - accuracy: 0.6189\n",
            "Epoch 4/100\n",
            "41/41 [==============================] - 0s 1ms/step - loss: 0.6923 - accuracy: 0.6189\n",
            "Epoch 5/100\n",
            "41/41 [==============================] - 0s 944us/step - loss: 0.6895 - accuracy: 0.6221\n",
            "Epoch 6/100\n",
            "41/41 [==============================] - 0s 904us/step - loss: 0.6868 - accuracy: 0.6238\n",
            "Epoch 7/100\n",
            "41/41 [==============================] - 0s 882us/step - loss: 0.6842 - accuracy: 0.6254\n",
            "Epoch 8/100\n",
            "41/41 [==============================] - 0s 877us/step - loss: 0.6816 - accuracy: 0.6270\n",
            "Epoch 9/100\n",
            "41/41 [==============================] - 0s 927us/step - loss: 0.6791 - accuracy: 0.6368\n",
            "Epoch 10/100\n",
            "41/41 [==============================] - 0s 955us/step - loss: 0.6767 - accuracy: 0.6368\n",
            "Epoch 11/100\n",
            "41/41 [==============================] - 0s 849us/step - loss: 0.6743 - accuracy: 0.6401\n",
            "Epoch 12/100\n",
            "41/41 [==============================] - 0s 878us/step - loss: 0.6720 - accuracy: 0.6384\n",
            "Epoch 13/100\n",
            "41/41 [==============================] - 0s 1ms/step - loss: 0.6698 - accuracy: 0.6401\n",
            "Epoch 14/100\n",
            "41/41 [==============================] - 0s 957us/step - loss: 0.6676 - accuracy: 0.6401\n",
            "Epoch 15/100\n",
            "41/41 [==============================] - 0s 966us/step - loss: 0.6654 - accuracy: 0.6433\n",
            "Epoch 16/100\n",
            "41/41 [==============================] - 0s 939us/step - loss: 0.6633 - accuracy: 0.6417\n",
            "Epoch 17/100\n",
            "41/41 [==============================] - 0s 917us/step - loss: 0.6612 - accuracy: 0.6433\n",
            "Epoch 18/100\n",
            "41/41 [==============================] - 0s 937us/step - loss: 0.6592 - accuracy: 0.6433\n",
            "Epoch 19/100\n",
            "41/41 [==============================] - 0s 939us/step - loss: 0.6573 - accuracy: 0.6417\n",
            "Epoch 20/100\n",
            "41/41 [==============================] - 0s 917us/step - loss: 0.6554 - accuracy: 0.6401\n",
            "Epoch 21/100\n",
            "41/41 [==============================] - 0s 886us/step - loss: 0.6535 - accuracy: 0.6401\n",
            "Epoch 22/100\n",
            "41/41 [==============================] - 0s 996us/step - loss: 0.6516 - accuracy: 0.6401\n",
            "Epoch 23/100\n",
            "41/41 [==============================] - 0s 909us/step - loss: 0.6498 - accuracy: 0.6417\n",
            "Epoch 24/100\n",
            "41/41 [==============================] - 0s 992us/step - loss: 0.6480 - accuracy: 0.6417\n",
            "Epoch 25/100\n",
            "41/41 [==============================] - 0s 913us/step - loss: 0.6463 - accuracy: 0.6450\n",
            "Epoch 26/100\n",
            "41/41 [==============================] - 0s 946us/step - loss: 0.6446 - accuracy: 0.6450\n",
            "Epoch 27/100\n",
            "41/41 [==============================] - 0s 896us/step - loss: 0.6429 - accuracy: 0.6450\n",
            "Epoch 28/100\n",
            "41/41 [==============================] - 0s 898us/step - loss: 0.6413 - accuracy: 0.6450\n",
            "Epoch 29/100\n",
            "41/41 [==============================] - 0s 920us/step - loss: 0.6396 - accuracy: 0.6466\n",
            "Epoch 30/100\n",
            "41/41 [==============================] - 0s 930us/step - loss: 0.6381 - accuracy: 0.6482\n",
            "Epoch 31/100\n",
            "41/41 [==============================] - 0s 898us/step - loss: 0.6366 - accuracy: 0.6466\n",
            "Epoch 32/100\n",
            "41/41 [==============================] - 0s 931us/step - loss: 0.6351 - accuracy: 0.6482\n",
            "Epoch 33/100\n",
            "41/41 [==============================] - 0s 940us/step - loss: 0.6336 - accuracy: 0.6482\n",
            "Epoch 34/100\n",
            "41/41 [==============================] - 0s 932us/step - loss: 0.6321 - accuracy: 0.6482\n",
            "Epoch 35/100\n",
            "41/41 [==============================] - 0s 1ms/step - loss: 0.6307 - accuracy: 0.6498\n",
            "Epoch 36/100\n",
            "41/41 [==============================] - 0s 1ms/step - loss: 0.6293 - accuracy: 0.6498\n",
            "Epoch 37/100\n",
            "41/41 [==============================] - 0s 958us/step - loss: 0.6279 - accuracy: 0.6498\n",
            "Epoch 38/100\n",
            "41/41 [==============================] - 0s 931us/step - loss: 0.6265 - accuracy: 0.6498\n",
            "Epoch 39/100\n",
            "41/41 [==============================] - 0s 941us/step - loss: 0.6252 - accuracy: 0.6498\n",
            "Epoch 40/100\n",
            "41/41 [==============================] - 0s 879us/step - loss: 0.6239 - accuracy: 0.6482\n",
            "Epoch 41/100\n",
            "41/41 [==============================] - 0s 923us/step - loss: 0.6227 - accuracy: 0.6482\n",
            "Epoch 42/100\n",
            "41/41 [==============================] - 0s 939us/step - loss: 0.6214 - accuracy: 0.6482\n",
            "Epoch 43/100\n",
            "41/41 [==============================] - 0s 949us/step - loss: 0.6202 - accuracy: 0.6482\n",
            "Epoch 44/100\n",
            "41/41 [==============================] - 0s 917us/step - loss: 0.6190 - accuracy: 0.6482\n",
            "Epoch 45/100\n",
            "41/41 [==============================] - 0s 921us/step - loss: 0.6178 - accuracy: 0.6482\n",
            "Epoch 46/100\n",
            "41/41 [==============================] - 0s 1ms/step - loss: 0.6166 - accuracy: 0.6482\n",
            "Epoch 47/100\n",
            "41/41 [==============================] - 0s 1ms/step - loss: 0.6154 - accuracy: 0.6482\n",
            "Epoch 48/100\n",
            "41/41 [==============================] - 0s 915us/step - loss: 0.6143 - accuracy: 0.6482\n",
            "Epoch 49/100\n",
            "41/41 [==============================] - 0s 920us/step - loss: 0.6132 - accuracy: 0.6498\n",
            "Epoch 50/100\n",
            "41/41 [==============================] - 0s 898us/step - loss: 0.6121 - accuracy: 0.6498\n",
            "Epoch 51/100\n",
            "41/41 [==============================] - 0s 907us/step - loss: 0.6111 - accuracy: 0.6482\n",
            "Epoch 52/100\n",
            "41/41 [==============================] - 0s 977us/step - loss: 0.6100 - accuracy: 0.6498\n",
            "Epoch 53/100\n",
            "41/41 [==============================] - 0s 923us/step - loss: 0.6090 - accuracy: 0.6498\n",
            "Epoch 54/100\n",
            "41/41 [==============================] - 0s 889us/step - loss: 0.6080 - accuracy: 0.6498\n",
            "Epoch 55/100\n",
            "41/41 [==============================] - 0s 914us/step - loss: 0.6070 - accuracy: 0.6482\n",
            "Epoch 56/100\n",
            "41/41 [==============================] - 0s 927us/step - loss: 0.6060 - accuracy: 0.6515\n",
            "Epoch 57/100\n",
            "41/41 [==============================] - 0s 905us/step - loss: 0.6051 - accuracy: 0.6515\n",
            "Epoch 58/100\n",
            "41/41 [==============================] - 0s 1ms/step - loss: 0.6041 - accuracy: 0.6498\n",
            "Epoch 59/100\n",
            "41/41 [==============================] - 0s 1ms/step - loss: 0.6032 - accuracy: 0.6515\n",
            "Epoch 60/100\n",
            "41/41 [==============================] - 0s 1ms/step - loss: 0.6022 - accuracy: 0.6547\n",
            "Epoch 61/100\n",
            "41/41 [==============================] - 0s 1ms/step - loss: 0.6013 - accuracy: 0.6547\n",
            "Epoch 62/100\n",
            "41/41 [==============================] - 0s 1ms/step - loss: 0.6004 - accuracy: 0.6564\n",
            "Epoch 63/100\n",
            "41/41 [==============================] - 0s 927us/step - loss: 0.5995 - accuracy: 0.6564\n",
            "Epoch 64/100\n",
            "41/41 [==============================] - 0s 891us/step - loss: 0.5986 - accuracy: 0.6564\n",
            "Epoch 65/100\n",
            "41/41 [==============================] - 0s 935us/step - loss: 0.5977 - accuracy: 0.6580\n",
            "Epoch 66/100\n",
            "41/41 [==============================] - 0s 944us/step - loss: 0.5969 - accuracy: 0.6580\n",
            "Epoch 67/100\n",
            "41/41 [==============================] - 0s 960us/step - loss: 0.5960 - accuracy: 0.6580\n",
            "Epoch 68/100\n",
            "41/41 [==============================] - 0s 977us/step - loss: 0.5952 - accuracy: 0.6580\n",
            "Epoch 69/100\n",
            "41/41 [==============================] - 0s 1ms/step - loss: 0.5943 - accuracy: 0.6596\n",
            "Epoch 70/100\n",
            "41/41 [==============================] - 0s 1ms/step - loss: 0.5935 - accuracy: 0.6596\n",
            "Epoch 71/100\n",
            "41/41 [==============================] - 0s 916us/step - loss: 0.5927 - accuracy: 0.6596\n",
            "Epoch 72/100\n",
            "41/41 [==============================] - 0s 956us/step - loss: 0.5919 - accuracy: 0.6596\n",
            "Epoch 73/100\n",
            "41/41 [==============================] - 0s 907us/step - loss: 0.5911 - accuracy: 0.6612\n",
            "Epoch 74/100\n",
            "41/41 [==============================] - 0s 1ms/step - loss: 0.5903 - accuracy: 0.6661\n",
            "Epoch 75/100\n",
            "41/41 [==============================] - 0s 970us/step - loss: 0.5896 - accuracy: 0.6645\n",
            "Epoch 76/100\n",
            "41/41 [==============================] - 0s 983us/step - loss: 0.5888 - accuracy: 0.6645\n",
            "Epoch 77/100\n",
            "41/41 [==============================] - 0s 987us/step - loss: 0.5881 - accuracy: 0.6645\n",
            "Epoch 78/100\n",
            "41/41 [==============================] - 0s 951us/step - loss: 0.5873 - accuracy: 0.6661\n",
            "Epoch 79/100\n",
            "41/41 [==============================] - 0s 1ms/step - loss: 0.5866 - accuracy: 0.6661\n",
            "Epoch 80/100\n",
            "41/41 [==============================] - 0s 1ms/step - loss: 0.5858 - accuracy: 0.6678\n",
            "Epoch 81/100\n",
            "41/41 [==============================] - 0s 1ms/step - loss: 0.5851 - accuracy: 0.6678\n",
            "Epoch 82/100\n",
            "41/41 [==============================] - 0s 1ms/step - loss: 0.5844 - accuracy: 0.6678\n",
            "Epoch 83/100\n",
            "41/41 [==============================] - 0s 1ms/step - loss: 0.5836 - accuracy: 0.6678\n",
            "Epoch 84/100\n",
            "41/41 [==============================] - 0s 950us/step - loss: 0.5829 - accuracy: 0.6678\n",
            "Epoch 85/100\n",
            "41/41 [==============================] - 0s 913us/step - loss: 0.5822 - accuracy: 0.6678\n",
            "Epoch 86/100\n",
            "41/41 [==============================] - 0s 952us/step - loss: 0.5815 - accuracy: 0.6694\n",
            "Epoch 87/100\n",
            "41/41 [==============================] - 0s 940us/step - loss: 0.5808 - accuracy: 0.6726\n",
            "Epoch 88/100\n",
            "41/41 [==============================] - 0s 946us/step - loss: 0.5801 - accuracy: 0.6743\n",
            "Epoch 89/100\n",
            "41/41 [==============================] - 0s 1ms/step - loss: 0.5794 - accuracy: 0.6824\n",
            "Epoch 90/100\n",
            "41/41 [==============================] - 0s 1ms/step - loss: 0.5787 - accuracy: 0.6808\n",
            "Epoch 91/100\n",
            "41/41 [==============================] - 0s 926us/step - loss: 0.5780 - accuracy: 0.6792\n",
            "Epoch 92/100\n",
            "41/41 [==============================] - 0s 936us/step - loss: 0.5774 - accuracy: 0.6792\n",
            "Epoch 93/100\n",
            "41/41 [==============================] - 0s 977us/step - loss: 0.5767 - accuracy: 0.6792\n",
            "Epoch 94/100\n",
            "41/41 [==============================] - 0s 920us/step - loss: 0.5760 - accuracy: 0.6808\n",
            "Epoch 95/100\n",
            "41/41 [==============================] - 0s 984us/step - loss: 0.5754 - accuracy: 0.6824\n",
            "Epoch 96/100\n",
            "41/41 [==============================] - 0s 983us/step - loss: 0.5747 - accuracy: 0.6840\n",
            "Epoch 97/100\n",
            "41/41 [==============================] - 0s 952us/step - loss: 0.5741 - accuracy: 0.6873\n",
            "Epoch 98/100\n",
            "41/41 [==============================] - 0s 935us/step - loss: 0.5734 - accuracy: 0.6889\n",
            "Epoch 99/100\n",
            "41/41 [==============================] - 0s 948us/step - loss: 0.5728 - accuracy: 0.6906\n",
            "Epoch 100/100\n",
            "41/41 [==============================] - 0s 936us/step - loss: 0.5721 - accuracy: 0.6922\n"
          ],
          "name": "stdout"
        }
      ]
    },
    {
      "cell_type": "code",
      "metadata": {
        "trusted": true,
        "id": "y1oRRNiIN3mH",
        "colab": {
          "base_uri": "https://localhost:8080/"
        },
        "outputId": "dbf3306e-dd30-4b20-d7b0-e862d4fcec89"
      },
      "source": [
        "acc=model1.evaluate(xtest,ytest)\n",
        "print(acc)"
      ],
      "execution_count": null,
      "outputs": [
        {
          "output_type": "stream",
          "text": [
            "5/5 [==============================] - 0s 2ms/step - loss: 0.5572 - accuracy: 0.6948\n",
            "[0.5572470426559448, 0.6948052048683167]\n"
          ],
          "name": "stdout"
        }
      ]
    },
    {
      "cell_type": "code",
      "metadata": {
        "trusted": true,
        "id": "JJ0gc7s4N3mJ",
        "colab": {
          "base_uri": "https://localhost:8080/",
          "height": 545
        },
        "outputId": "104fb824-467d-4821-ecaf-f92db86b99f2"
      },
      "source": [
        "import matplotlib.pyplot as plt\n",
        "acc = history.history['accuracy']\n",
        "loss2 =  history.history['loss']\n",
        "\n",
        "epochs = range(len(acc))\n",
        "\n",
        "plt.plot(epochs, acc, 'r', label='Training accuracy')\n",
        "plt.title('Training  accuracy')\n",
        "plt.legend()\n",
        "plt.figure()\n",
        "\n",
        "plt.plot(epochs, loss2, 'r', label='Training Loss')\n",
        "plt.title('Training  loss')\n",
        "plt.legend()\n",
        "\n",
        "plt.show()"
      ],
      "execution_count": null,
      "outputs": [
        {
          "output_type": "display_data",
          "data": {
            "image/png": "[encoded data removed]",
            "text/plain": [
              "<Figure size 432x288 with 1 Axes>"
            ]
          },
          "metadata": {
            "tags": [],
            "needs_background": "light"
          }
        },
        {
          "output_type": "display_data",
          "data": {
            "image/png": "[encoded data removed]",
            "text/plain": [
              "<Figure size 432x288 with 1 Axes>"
            ]
          },
          "metadata": {
            "tags": [],
            "needs_background": "light"
          }
        }
      ]
    },
    {
      "cell_type": "code",
      "metadata": {
        "trusted": true,
        "id": "HyawNUAqN3mL"
      },
      "source": [
        "model2=tf.keras.Sequential([\n",
        "      tf.keras.layers.Dense(12,activation='relu',input_shape=(8,)),\n",
        "      tf.keras.layers.Dense(8,activation='relu'),\n",
        "      tf.keras.layers.Dense(1,activation='sigmoid')\n",
        "])"
      ],
      "execution_count": null,
      "outputs": []
    },
    {
      "cell_type": "code",
      "metadata": {
        "trusted": true,
        "id": "CA8b6fEQN3mO"
      },
      "source": [
        "from tensorflow.keras.optimizers import RMSprop\n",
        "model2.compile(optimizer = RMSprop(lr=0.001), \n",
        "              loss = 'binary_crossentropy', \n",
        "              metrics=['accuracy'])"
      ],
      "execution_count": null,
      "outputs": []
    },
    {
      "cell_type": "code",
      "metadata": {
        "trusted": true,
        "id": "WDpk22GjN3mQ",
        "colab": {
          "base_uri": "https://localhost:8080/"
        },
        "outputId": "8eb78836-f9eb-433a-c5ad-036f4f67a73d"
      },
      "source": [
        "history = model2.fit(xtrain, \n",
        "                    ytrain,\n",
        "                   epochs =100,batch_size=40)"
      ],
      "execution_count": null,
      "outputs": [
        {
          "output_type": "stream",
          "text": [
            "Epoch 1/100\n",
            "16/16 [==============================] - 0s 1ms/step - loss: 0.6761 - accuracy: 0.5814\n",
            "Epoch 2/100\n",
            "16/16 [==============================] - 0s 1ms/step - loss: 0.6401 - accuracy: 0.6564\n",
            "Epoch 3/100\n",
            "16/16 [==============================] - 0s 1ms/step - loss: 0.6131 - accuracy: 0.6840\n",
            "Epoch 4/100\n",
            "16/16 [==============================] - 0s 1ms/step - loss: 0.5913 - accuracy: 0.7052\n",
            "Epoch 5/100\n",
            "16/16 [==============================] - 0s 1ms/step - loss: 0.5726 - accuracy: 0.7003\n",
            "Epoch 6/100\n",
            "16/16 [==============================] - 0s 1ms/step - loss: 0.5566 - accuracy: 0.7085\n",
            "Epoch 7/100\n",
            "16/16 [==============================] - 0s 1ms/step - loss: 0.5428 - accuracy: 0.7199\n",
            "Epoch 8/100\n",
            "16/16 [==============================] - 0s 1ms/step - loss: 0.5306 - accuracy: 0.7215\n",
            "Epoch 9/100\n",
            "16/16 [==============================] - 0s 1ms/step - loss: 0.5200 - accuracy: 0.7264\n",
            "Epoch 10/100\n",
            "16/16 [==============================] - 0s 1ms/step - loss: 0.5117 - accuracy: 0.7296\n",
            "Epoch 11/100\n",
            "16/16 [==============================] - 0s 1ms/step - loss: 0.5041 - accuracy: 0.7329\n",
            "Epoch 12/100\n",
            "16/16 [==============================] - 0s 1ms/step - loss: 0.4976 - accuracy: 0.7459\n",
            "Epoch 13/100\n",
            "16/16 [==============================] - 0s 1ms/step - loss: 0.4920 - accuracy: 0.7427\n",
            "Epoch 14/100\n",
            "16/16 [==============================] - 0s 1ms/step - loss: 0.4871 - accuracy: 0.7508\n",
            "Epoch 15/100\n",
            "16/16 [==============================] - 0s 1ms/step - loss: 0.4829 - accuracy: 0.7492\n",
            "Epoch 16/100\n",
            "16/16 [==============================] - 0s 1ms/step - loss: 0.4793 - accuracy: 0.7492\n",
            "Epoch 17/100\n",
            "16/16 [==============================] - 0s 1ms/step - loss: 0.4759 - accuracy: 0.7524\n",
            "Epoch 18/100\n",
            "16/16 [==============================] - 0s 1ms/step - loss: 0.4727 - accuracy: 0.7541\n",
            "Epoch 19/100\n",
            "16/16 [==============================] - 0s 1ms/step - loss: 0.4703 - accuracy: 0.7524\n",
            "Epoch 20/100\n",
            "16/16 [==============================] - 0s 1ms/step - loss: 0.4678 - accuracy: 0.7508\n",
            "Epoch 21/100\n",
            "16/16 [==============================] - 0s 1ms/step - loss: 0.4658 - accuracy: 0.7557\n",
            "Epoch 22/100\n",
            "16/16 [==============================] - 0s 1ms/step - loss: 0.4638 - accuracy: 0.7590\n",
            "Epoch 23/100\n",
            "16/16 [==============================] - 0s 1ms/step - loss: 0.4619 - accuracy: 0.7557\n",
            "Epoch 24/100\n",
            "16/16 [==============================] - 0s 1ms/step - loss: 0.4599 - accuracy: 0.7655\n",
            "Epoch 25/100\n",
            "16/16 [==============================] - 0s 1ms/step - loss: 0.4584 - accuracy: 0.7655\n",
            "Epoch 26/100\n",
            "16/16 [==============================] - 0s 1ms/step - loss: 0.4568 - accuracy: 0.7655\n",
            "Epoch 27/100\n",
            "16/16 [==============================] - 0s 2ms/step - loss: 0.4554 - accuracy: 0.7622\n",
            "Epoch 28/100\n",
            "16/16 [==============================] - 0s 1ms/step - loss: 0.4539 - accuracy: 0.7704\n",
            "Epoch 29/100\n",
            "16/16 [==============================] - 0s 1ms/step - loss: 0.4526 - accuracy: 0.7671\n",
            "Epoch 30/100\n",
            "16/16 [==============================] - 0s 1ms/step - loss: 0.4514 - accuracy: 0.7704\n",
            "Epoch 31/100\n",
            "16/16 [==============================] - 0s 1ms/step - loss: 0.4500 - accuracy: 0.7704\n",
            "Epoch 32/100\n",
            "16/16 [==============================] - 0s 1ms/step - loss: 0.4490 - accuracy: 0.7720\n",
            "Epoch 33/100\n",
            "16/16 [==============================] - 0s 1ms/step - loss: 0.4480 - accuracy: 0.7720\n",
            "Epoch 34/100\n",
            "16/16 [==============================] - 0s 1ms/step - loss: 0.4469 - accuracy: 0.7704\n",
            "Epoch 35/100\n",
            "16/16 [==============================] - 0s 1ms/step - loss: 0.4462 - accuracy: 0.7752\n",
            "Epoch 36/100\n",
            "16/16 [==============================] - 0s 1ms/step - loss: 0.4452 - accuracy: 0.7752\n",
            "Epoch 37/100\n",
            "16/16 [==============================] - 0s 1ms/step - loss: 0.4444 - accuracy: 0.7769\n",
            "Epoch 38/100\n",
            "16/16 [==============================] - 0s 1ms/step - loss: 0.4435 - accuracy: 0.7801\n",
            "Epoch 39/100\n",
            "16/16 [==============================] - 0s 1ms/step - loss: 0.4432 - accuracy: 0.7752\n",
            "Epoch 40/100\n",
            "16/16 [==============================] - 0s 1ms/step - loss: 0.4420 - accuracy: 0.7785\n",
            "Epoch 41/100\n",
            "16/16 [==============================] - 0s 1ms/step - loss: 0.4411 - accuracy: 0.7834\n",
            "Epoch 42/100\n",
            "16/16 [==============================] - 0s 1ms/step - loss: 0.4409 - accuracy: 0.7785\n",
            "Epoch 43/100\n",
            "16/16 [==============================] - 0s 1ms/step - loss: 0.4402 - accuracy: 0.7801\n",
            "Epoch 44/100\n",
            "16/16 [==============================] - 0s 2ms/step - loss: 0.4392 - accuracy: 0.7769\n",
            "Epoch 45/100\n",
            "16/16 [==============================] - 0s 1ms/step - loss: 0.4387 - accuracy: 0.7801\n",
            "Epoch 46/100\n",
            "16/16 [==============================] - 0s 1ms/step - loss: 0.4379 - accuracy: 0.7801\n",
            "Epoch 47/100\n",
            "16/16 [==============================] - 0s 1ms/step - loss: 0.4373 - accuracy: 0.7785\n",
            "Epoch 48/100\n",
            "16/16 [==============================] - 0s 2ms/step - loss: 0.4362 - accuracy: 0.7818\n",
            "Epoch 49/100\n",
            "16/16 [==============================] - 0s 1ms/step - loss: 0.4360 - accuracy: 0.7785\n",
            "Epoch 50/100\n",
            "16/16 [==============================] - 0s 1ms/step - loss: 0.4356 - accuracy: 0.7769\n",
            "Epoch 51/100\n",
            "16/16 [==============================] - 0s 1ms/step - loss: 0.4347 - accuracy: 0.7736\n",
            "Epoch 52/100\n",
            "16/16 [==============================] - 0s 1ms/step - loss: 0.4341 - accuracy: 0.7769\n",
            "Epoch 53/100\n",
            "16/16 [==============================] - 0s 1ms/step - loss: 0.4335 - accuracy: 0.7769\n",
            "Epoch 54/100\n",
            "16/16 [==============================] - 0s 1ms/step - loss: 0.4326 - accuracy: 0.7769\n",
            "Epoch 55/100\n",
            "16/16 [==============================] - 0s 1ms/step - loss: 0.4322 - accuracy: 0.7801\n",
            "Epoch 56/100\n",
            "16/16 [==============================] - 0s 1ms/step - loss: 0.4316 - accuracy: 0.7769\n",
            "Epoch 57/100\n",
            "16/16 [==============================] - 0s 1ms/step - loss: 0.4313 - accuracy: 0.7769\n",
            "Epoch 58/100\n",
            "16/16 [==============================] - 0s 1ms/step - loss: 0.4305 - accuracy: 0.7818\n",
            "Epoch 59/100\n",
            "16/16 [==============================] - 0s 1ms/step - loss: 0.4303 - accuracy: 0.7785\n",
            "Epoch 60/100\n",
            "16/16 [==============================] - 0s 1ms/step - loss: 0.4294 - accuracy: 0.7769\n",
            "Epoch 61/100\n",
            "16/16 [==============================] - 0s 1ms/step - loss: 0.4290 - accuracy: 0.7801\n",
            "Epoch 62/100\n",
            "16/16 [==============================] - 0s 1ms/step - loss: 0.4284 - accuracy: 0.7801\n",
            "Epoch 63/100\n",
            "16/16 [==============================] - 0s 1ms/step - loss: 0.4283 - accuracy: 0.7818\n",
            "Epoch 64/100\n",
            "16/16 [==============================] - 0s 1ms/step - loss: 0.4275 - accuracy: 0.7818\n",
            "Epoch 65/100\n",
            "16/16 [==============================] - 0s 1ms/step - loss: 0.4276 - accuracy: 0.7785\n",
            "Epoch 66/100\n",
            "16/16 [==============================] - 0s 1ms/step - loss: 0.4266 - accuracy: 0.7801\n",
            "Epoch 67/100\n",
            "16/16 [==============================] - 0s 1ms/step - loss: 0.4265 - accuracy: 0.7801\n",
            "Epoch 68/100\n",
            "16/16 [==============================] - 0s 1ms/step - loss: 0.4261 - accuracy: 0.7801\n",
            "Epoch 69/100\n",
            "16/16 [==============================] - 0s 1ms/step - loss: 0.4252 - accuracy: 0.7834\n",
            "Epoch 70/100\n",
            "16/16 [==============================] - 0s 1ms/step - loss: 0.4250 - accuracy: 0.7785\n",
            "Epoch 71/100\n",
            "16/16 [==============================] - 0s 2ms/step - loss: 0.4245 - accuracy: 0.7834\n",
            "Epoch 72/100\n",
            "16/16 [==============================] - 0s 1ms/step - loss: 0.4241 - accuracy: 0.7801\n",
            "Epoch 73/100\n",
            "16/16 [==============================] - 0s 1ms/step - loss: 0.4239 - accuracy: 0.7818\n",
            "Epoch 74/100\n",
            "16/16 [==============================] - 0s 1ms/step - loss: 0.4232 - accuracy: 0.7818\n",
            "Epoch 75/100\n",
            "16/16 [==============================] - 0s 1ms/step - loss: 0.4229 - accuracy: 0.7801\n",
            "Epoch 76/100\n",
            "16/16 [==============================] - 0s 1ms/step - loss: 0.4222 - accuracy: 0.7818\n",
            "Epoch 77/100\n",
            "16/16 [==============================] - 0s 1ms/step - loss: 0.4224 - accuracy: 0.7850\n",
            "Epoch 78/100\n",
            "16/16 [==============================] - 0s 1ms/step - loss: 0.4212 - accuracy: 0.7834\n",
            "Epoch 79/100\n",
            "16/16 [==============================] - 0s 1ms/step - loss: 0.4211 - accuracy: 0.7834\n",
            "Epoch 80/100\n",
            "16/16 [==============================] - 0s 1ms/step - loss: 0.4208 - accuracy: 0.7818\n",
            "Epoch 81/100\n",
            "16/16 [==============================] - 0s 1ms/step - loss: 0.4207 - accuracy: 0.7834\n",
            "Epoch 82/100\n",
            "16/16 [==============================] - 0s 2ms/step - loss: 0.4202 - accuracy: 0.7850\n",
            "Epoch 83/100\n",
            "16/16 [==============================] - 0s 1ms/step - loss: 0.4199 - accuracy: 0.7866\n",
            "Epoch 84/100\n",
            "16/16 [==============================] - 0s 1ms/step - loss: 0.4196 - accuracy: 0.7785\n",
            "Epoch 85/100\n",
            "16/16 [==============================] - 0s 1ms/step - loss: 0.4189 - accuracy: 0.7834\n",
            "Epoch 86/100\n",
            "16/16 [==============================] - 0s 1ms/step - loss: 0.4187 - accuracy: 0.7818\n",
            "Epoch 87/100\n",
            "16/16 [==============================] - 0s 1ms/step - loss: 0.4183 - accuracy: 0.7834\n",
            "Epoch 88/100\n",
            "16/16 [==============================] - 0s 1ms/step - loss: 0.4181 - accuracy: 0.7850\n",
            "Epoch 89/100\n",
            "16/16 [==============================] - 0s 1ms/step - loss: 0.4178 - accuracy: 0.7850\n",
            "Epoch 90/100\n",
            "16/16 [==============================] - 0s 1ms/step - loss: 0.4172 - accuracy: 0.7850\n",
            "Epoch 91/100\n",
            "16/16 [==============================] - 0s 1ms/step - loss: 0.4173 - accuracy: 0.7818\n",
            "Epoch 92/100\n",
            "16/16 [==============================] - 0s 2ms/step - loss: 0.4165 - accuracy: 0.7818\n",
            "Epoch 93/100\n",
            "16/16 [==============================] - 0s 1ms/step - loss: 0.4166 - accuracy: 0.7850\n",
            "Epoch 94/100\n",
            "16/16 [==============================] - 0s 1ms/step - loss: 0.4159 - accuracy: 0.7818\n",
            "Epoch 95/100\n",
            "16/16 [==============================] - 0s 1ms/step - loss: 0.4154 - accuracy: 0.7866\n",
            "Epoch 96/100\n",
            "16/16 [==============================] - 0s 1ms/step - loss: 0.4153 - accuracy: 0.7850\n",
            "Epoch 97/100\n",
            "16/16 [==============================] - 0s 2ms/step - loss: 0.4150 - accuracy: 0.7883\n",
            "Epoch 98/100\n",
            "16/16 [==============================] - 0s 1ms/step - loss: 0.4150 - accuracy: 0.7883\n",
            "Epoch 99/100\n",
            "16/16 [==============================] - 0s 1ms/step - loss: 0.4145 - accuracy: 0.7899\n",
            "Epoch 100/100\n",
            "16/16 [==============================] - 0s 1ms/step - loss: 0.4144 - accuracy: 0.7866\n"
          ],
          "name": "stdout"
        }
      ]
    },
    {
      "cell_type": "code",
      "metadata": {
        "trusted": true,
        "id": "VA_oVNvAN3mS",
        "colab": {
          "base_uri": "https://localhost:8080/"
        },
        "outputId": "50cade98-d328-4d50-9fa2-914291ed99e6"
      },
      "source": [
        "acc1=model2.evaluate(xtest,ytest)\n",
        "print(acc1)"
      ],
      "execution_count": null,
      "outputs": [
        {
          "output_type": "stream",
          "text": [
            "5/5 [==============================] - 0s 2ms/step - loss: 0.5505 - accuracy: 0.7532\n",
            "[0.5504746437072754, 0.7532467246055603]\n"
          ],
          "name": "stdout"
        }
      ]
    },
    {
      "cell_type": "code",
      "metadata": {
        "trusted": true,
        "id": "ASZcqP4cN3mU",
        "colab": {
          "base_uri": "https://localhost:8080/",
          "height": 545
        },
        "outputId": "eac745ad-613c-42e9-e84d-081596444632"
      },
      "source": [
        "import matplotlib.pyplot as plt\n",
        "acc = history.history['accuracy']\n",
        "loss3 =  history.history['loss']\n",
        "\n",
        "epochs = range(len(acc))\n",
        "\n",
        "plt.plot(epochs, acc, 'r', label='Training accuracy')\n",
        "plt.title('Training  accuracy')\n",
        "plt.legend()\n",
        "plt.figure()\n",
        "\n",
        "plt.plot(epochs, loss3, 'r', label='Training Loss')\n",
        "plt.title('Training  loss')\n",
        "plt.legend()\n",
        "\n",
        "plt.show()"
      ],
      "execution_count": null,
      "outputs": [
        {
          "output_type": "display_data",
          "data": {
            "image/png": "[encoded data removed]",
            "text/plain": [
              "<Figure size 432x288 with 1 Axes>"
            ]
          },
          "metadata": {
            "tags": [],
            "needs_background": "light"
          }
        },
        {
          "output_type": "display_data",
          "data": {
            "image/png": "[encoded data removed]",
            "text/plain": [
              "<Figure size 432x288 with 1 Axes>"
            ]
          },
          "metadata": {
            "tags": [],
            "needs_background": "light"
          }
        }
      ]
    },
    {
      "cell_type": "code",
      "metadata": {
        "trusted": true,
        "id": "XTeMhfb1N3mX",
        "colab": {
          "base_uri": "https://localhost:8080/",
          "height": 265
        },
        "outputId": "5744c753-d55a-4deb-ad6f-9f7b0b8a9ba5"
      },
      "source": [
        "import matplotlib.pyplot as plt\n",
        "plt.plot(epochs, loss1, 'r', label='Adam')\n",
        "plt.plot(epochs, loss2, 'g', label='SGD')\n",
        "plt.plot(epochs, loss3, 'b', label='RMSprop')\n",
        "plt.legend()\n",
        "plt.show()"
      ],
      "execution_count": null,
      "outputs": [
        {
          "output_type": "display_data",
          "data": {
            "image/png": "[encoded data removed]",
            "text/plain": [
              "<Figure size 432x288 with 1 Axes>"
            ]
          },
          "metadata": {
            "tags": [],
            "needs_background": "light"
          }
        }
      ]
    },
    {
      "cell_type": "code",
      "metadata": {
        "id": "QFkEQMnmUhti"
      },
      "source": [
        ""
      ],
      "execution_count": null,
      "outputs": []
    }
  ]
}